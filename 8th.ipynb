{
  "nbformat": 4,
  "nbformat_minor": 0,
  "metadata": {
    "colab": {
      "provenance": [],
      "authorship_tag": "ABX9TyOu7/CPi2jT4XUlIsQS4R0a",
      "include_colab_link": true
    },
    "kernelspec": {
      "name": "python3",
      "display_name": "Python 3"
    },
    "language_info": {
      "name": "python"
    }
  },
  "cells": [
    {
      "cell_type": "markdown",
      "metadata": {
        "id": "view-in-github",
        "colab_type": "text"
      },
      "source": [
        "<a href=\"https://colab.research.google.com/github/Kazuyasus/Econometrics/blob/main/8th.ipynb\" target=\"_parent\"><img src=\"https://colab.research.google.com/assets/colab-badge.svg\" alt=\"Open In Colab\"/></a>"
      ]
    },
    {
      "cell_type": "code",
      "execution_count": null,
      "metadata": {
        "colab": {
          "base_uri": "https://localhost:8080/"
        },
        "id": "1PcLIoSs7S13",
        "outputId": "162c223b-bb32-45a2-aac7-678a6eab0ef0"
      },
      "outputs": [
        {
          "output_type": "stream",
          "name": "stdout",
          "text": [
            "                 Generalized Linear Model Regression Results                  \n",
            "==============================================================================\n",
            "Dep. Variable:                ref05yn   No. Observations:                  157\n",
            "Model:                            GLM   Df Residuals:                      153\n",
            "Model Family:                Binomial   Df Model:                            3\n",
            "Link Function:                 probit   Scale:                          1.0000\n",
            "Method:                          IRLS   Log-Likelihood:                -46.089\n",
            "Date:                Wed, 26 Mar 2025   Deviance:                       92.179\n",
            "Time:                        07:58:48   Pearson chi2:                     114.\n",
            "No. Iterations:                     7   Pseudo R-squ. (CS):             0.3219\n",
            "Covariance Type:            nonrobust                                         \n",
            "===========================================================================================\n",
            "                              coef    std err          z      P>|z|      [0.025      0.975]\n",
            "-------------------------------------------------------------------------------------------\n",
            "Intercept                   0.0088      0.394      0.022      0.982      -0.763       0.781\n",
            "expression == 0[T.True]     0.9331      0.336      2.777      0.005       0.275       1.592\n",
            "yes                         0.0728      0.026      2.797      0.005       0.022       0.124\n",
            "no                         -0.1006      0.029     -3.487      0.000      -0.157      -0.044\n",
            "===========================================================================================\n"
          ]
        },
        {
          "output_type": "stream",
          "name": "stderr",
          "text": [
            "/usr/local/lib/python3.11/dist-packages/statsmodels/genmod/families/links.py:13: FutureWarning: The probit link alias is deprecated. Use Probit instead. The probit link alias will be removed after the 0.15.0 release.\n",
            "  warnings.warn(\n"
          ]
        }
      ],
      "source": [
        "import pandas as pd\n",
        "import numpy as np\n",
        "import statsmodels.api as sm\n",
        "import statsmodels.formula.api as smf\n",
        "from scipy.stats import norm\n",
        "from sklearn.preprocessing import LabelEncoder\n",
        "\n",
        "# GitHubのdataを利用\n",
        "url = \"https://raw.githubusercontent.com/Kazuyasus/Econometrics/main/gdb.txt\"\n",
        "\n",
        "# CSVを読み込む\n",
        "gd_bin=pd.read_table(url)\n",
        "\n",
        "# Probit Model 1\n",
        "res_bin1 = smf.glm(\"ref05yn ~ yes + no + (expression == 0)\", data=gd_bin, family=sm.families.Binomial(link=sm.families.links.probit())).fit()\n",
        "print(res_bin1.summary())"
      ]
    },
    {
      "cell_type": "code",
      "source": [
        "# Probit Model 2\n",
        "res_bin2 = smf.glm(\"ref05yn ~ yes4 + yes5 + yes6 + yesother + no4 + no5 + no6 + noother + (expression == 0)\", data=gd_bin, family=sm.families.Binomial(link=sm.families.links.probit())).fit()\n",
        "\n",
        "print(res_bin2.summary())"
      ],
      "metadata": {
        "colab": {
          "base_uri": "https://localhost:8080/"
        },
        "id": "ik2YnzQ4-uK7",
        "outputId": "b450b6b2-e4ac-4309-e495-5723eab34ec1"
      },
      "execution_count": null,
      "outputs": [
        {
          "output_type": "stream",
          "name": "stdout",
          "text": [
            "                 Generalized Linear Model Regression Results                  \n",
            "==============================================================================\n",
            "Dep. Variable:                ref05yn   No. Observations:                  157\n",
            "Model:                            GLM   Df Residuals:                      147\n",
            "Model Family:                Binomial   Df Model:                            9\n",
            "Link Function:                 probit   Scale:                          1.0000\n",
            "Method:                          IRLS   Log-Likelihood:                -40.152\n",
            "Date:                Wed, 26 Mar 2025   Deviance:                       80.304\n",
            "Time:                        08:00:59   Pearson chi2:                     145.\n",
            "No. Iterations:                     8   Pseudo R-squ. (CS):             0.3713\n",
            "Covariance Type:            nonrobust                                         \n",
            "===========================================================================================\n",
            "                              coef    std err          z      P>|z|      [0.025      0.975]\n",
            "-------------------------------------------------------------------------------------------\n",
            "Intercept                   0.0082      0.541      0.015      0.988      -1.053       1.069\n",
            "expression == 0[T.True]     1.1373      0.382      2.976      0.003       0.388       1.886\n",
            "yes4                        0.0362      0.080      0.451      0.652      -0.121       0.193\n",
            "yes5                        0.4679      0.159      2.945      0.003       0.156       0.779\n",
            "yes6                        0.3982      0.345      1.156      0.248      -0.277       1.074\n",
            "yesother                   -0.0395      0.097     -0.408      0.683      -0.229       0.150\n",
            "no4                        -0.2543      0.090     -2.824      0.005      -0.431      -0.078\n",
            "no5                         0.1253      0.157      0.801      0.423      -0.181       0.432\n",
            "no6                         0.0494      0.313      0.158      0.875      -0.565       0.663\n",
            "noother                    -0.2223      0.099     -2.237      0.025      -0.417      -0.028\n",
            "===========================================================================================\n"
          ]
        },
        {
          "output_type": "stream",
          "name": "stderr",
          "text": [
            "/usr/local/lib/python3.11/dist-packages/statsmodels/genmod/families/links.py:13: FutureWarning: The probit link alias is deprecated. Use Probit instead. The probit link alias will be removed after the 0.15.0 release.\n",
            "  warnings.warn(\n"
          ]
        }
      ]
    },
    {
      "cell_type": "code",
      "source": [
        "# Probit Model 3\n",
        "# expression == 0 のデータのみ抽出\n",
        "gd_bin_R = gd_bin[gd_bin[\"expression\"] == 0]\n",
        "\n",
        "# Probit Model 3\n",
        "res_bin3 = smf.glm(\"ref05yn ~ yes4 + yes5 + yes6 + yesother + no4 + no5 + no6 + noother\", data=gd_bin_R, family=sm.families.Binomial(link=sm.families.links.probit())).fit()\n",
        "print(res_bin3.summary())"
      ],
      "metadata": {
        "colab": {
          "base_uri": "https://localhost:8080/"
        },
        "id": "fTePzsHp_Io4",
        "outputId": "e6fcc3d0-249e-450c-c973-dd38292ed66a"
      },
      "execution_count": null,
      "outputs": [
        {
          "output_type": "stream",
          "name": "stdout",
          "text": [
            "                 Generalized Linear Model Regression Results                  \n",
            "==============================================================================\n",
            "Dep. Variable:                ref05yn   No. Observations:                  106\n",
            "Model:                            GLM   Df Residuals:                       97\n",
            "Model Family:                Binomial   Df Model:                            8\n",
            "Link Function:                 probit   Scale:                          1.0000\n",
            "Method:                          IRLS   Log-Likelihood:                -15.204\n",
            "Date:                Wed, 26 Mar 2025   Deviance:                       30.408\n",
            "Time:                        08:02:35   Pearson chi2:                     60.5\n",
            "No. Iterations:                    10   Pseudo R-squ. (CS):             0.1377\n",
            "Covariance Type:            nonrobust                                         \n",
            "==============================================================================\n",
            "                 coef    std err          z      P>|z|      [0.025      0.975]\n",
            "------------------------------------------------------------------------------\n",
            "Intercept      0.7056      1.162      0.607      0.544      -1.572       2.984\n",
            "yes4           0.0244      0.174      0.140      0.889      -0.317       0.366\n",
            "yes5           0.5347      0.294      1.816      0.069      -0.042       1.112\n",
            "yes6          -0.1556      0.450     -0.346      0.729      -1.037       0.725\n",
            "yesother       0.0419      0.187      0.224      0.822      -0.324       0.407\n",
            "no4           -0.3389      0.181     -1.872      0.061      -0.694       0.016\n",
            "no5            0.0181      0.375      0.048      0.962      -0.718       0.754\n",
            "no6            0.1215      0.607      0.200      0.841      -1.068       1.311\n",
            "noother       -0.1343      0.214     -0.628      0.530      -0.553       0.285\n",
            "==============================================================================\n"
          ]
        },
        {
          "output_type": "stream",
          "name": "stderr",
          "text": [
            "/usr/local/lib/python3.11/dist-packages/statsmodels/genmod/families/links.py:13: FutureWarning: The probit link alias is deprecated. Use Probit instead. The probit link alias will be removed after the 0.15.0 release.\n",
            "  warnings.warn(\n"
          ]
        }
      ]
    },
    {
      "cell_type": "code",
      "source": [
        "# 推計結果を一つにまとめる\n",
        "!pip install stargazer\n",
        "from stargazer.stargazer import Stargazer\n",
        "model1_stargazer = Stargazer([res_bin1, res_bin2, res_bin3])\n",
        "model1_stargazer"
      ],
      "metadata": {
        "colab": {
          "base_uri": "https://localhost:8080/",
          "height": 758
        },
        "id": "1hkzvKybeeMt",
        "outputId": "13c75128-5090-41b4-ca34-71fd3266de88"
      },
      "execution_count": null,
      "outputs": [
        {
          "output_type": "stream",
          "name": "stdout",
          "text": [
            "Collecting stargazer\n",
            "  Downloading stargazer-0.0.7-py3-none-any.whl.metadata (6.3 kB)\n",
            "Downloading stargazer-0.0.7-py3-none-any.whl (15 kB)\n",
            "Installing collected packages: stargazer\n",
            "Successfully installed stargazer-0.0.7\n"
          ]
        },
        {
          "output_type": "execute_result",
          "data": {
            "text/plain": [
              "<stargazer.stargazer.Stargazer at 0x7e2488dbf790>"
            ],
            "text/html": [
              "<table style=\"text-align:center\"><tr><td colspan=\"4\" style=\"border-bottom: 1px solid black\"></td></tr>\n",
              "<tr><td style=\"text-align:left\"></td><td colspan=\"3\"><em>Dependent variable: ref05yn</em></td></tr><tr><td style=\"text-align:left\"></td><tr><td style=\"text-align:left\"></td><td>(1)</td><td>(2)</td><td>(3)</td></tr>\n",
              "<tr><td colspan=\"4\" style=\"border-bottom: 1px solid black\"></td></tr>\n",
              "\n",
              "<tr><td style=\"text-align:left\">Intercept</td><td>0.009<sup></sup></td><td>0.008<sup></sup></td><td>0.706<sup></sup></td></tr>\n",
              "<tr><td style=\"text-align:left\"></td><td>(0.394)</td><td>(0.541)</td><td>(1.162)</td></tr>\n",
              "<tr><td style=\"text-align:left\">expression == 0[T.True]</td><td>0.933<sup>***</sup></td><td>1.137<sup>***</sup></td><td></td></tr>\n",
              "<tr><td style=\"text-align:left\"></td><td>(0.336)</td><td>(0.382)</td><td></td></tr>\n",
              "<tr><td style=\"text-align:left\">no</td><td>-0.101<sup>***</sup></td><td></td><td></td></tr>\n",
              "<tr><td style=\"text-align:left\"></td><td>(0.029)</td><td></td><td></td></tr>\n",
              "<tr><td style=\"text-align:left\">no4</td><td></td><td>-0.254<sup>***</sup></td><td>-0.339<sup>*</sup></td></tr>\n",
              "<tr><td style=\"text-align:left\"></td><td></td><td>(0.090)</td><td>(0.181)</td></tr>\n",
              "<tr><td style=\"text-align:left\">no5</td><td></td><td>0.125<sup></sup></td><td>0.018<sup></sup></td></tr>\n",
              "<tr><td style=\"text-align:left\"></td><td></td><td>(0.157)</td><td>(0.375)</td></tr>\n",
              "<tr><td style=\"text-align:left\">no6</td><td></td><td>0.049<sup></sup></td><td>0.121<sup></sup></td></tr>\n",
              "<tr><td style=\"text-align:left\"></td><td></td><td>(0.313)</td><td>(0.607)</td></tr>\n",
              "<tr><td style=\"text-align:left\">noother</td><td></td><td>-0.222<sup>**</sup></td><td>-0.134<sup></sup></td></tr>\n",
              "<tr><td style=\"text-align:left\"></td><td></td><td>(0.099)</td><td>(0.214)</td></tr>\n",
              "<tr><td style=\"text-align:left\">yes</td><td>0.073<sup>***</sup></td><td></td><td></td></tr>\n",
              "<tr><td style=\"text-align:left\"></td><td>(0.026)</td><td></td><td></td></tr>\n",
              "<tr><td style=\"text-align:left\">yes4</td><td></td><td>0.036<sup></sup></td><td>0.024<sup></sup></td></tr>\n",
              "<tr><td style=\"text-align:left\"></td><td></td><td>(0.080)</td><td>(0.174)</td></tr>\n",
              "<tr><td style=\"text-align:left\">yes5</td><td></td><td>0.468<sup>***</sup></td><td>0.535<sup>*</sup></td></tr>\n",
              "<tr><td style=\"text-align:left\"></td><td></td><td>(0.159)</td><td>(0.294)</td></tr>\n",
              "<tr><td style=\"text-align:left\">yes6</td><td></td><td>0.398<sup></sup></td><td>-0.156<sup></sup></td></tr>\n",
              "<tr><td style=\"text-align:left\"></td><td></td><td>(0.345)</td><td>(0.450)</td></tr>\n",
              "<tr><td style=\"text-align:left\">yesother</td><td></td><td>-0.039<sup></sup></td><td>0.042<sup></sup></td></tr>\n",
              "<tr><td style=\"text-align:left\"></td><td></td><td>(0.097)</td><td>(0.187)</td></tr>\n",
              "\n",
              "<td colspan=\"4\" style=\"border-bottom: 1px solid black\"></td></tr>\n",
              "<tr><td style=\"text-align: left\">Observations</td><td>157</td><td>157</td><td>106</td></tr>\n",
              "<tr><td colspan=\"4\" style=\"border-bottom: 1px solid black\"></td></tr><tr><td style=\"text-align: left\">Note:</td><td colspan=\"3\" style=\"text-align: right\"><sup>*</sup>p&lt;0.1; <sup>**</sup>p&lt;0.05; <sup>***</sup>p&lt;0.01</td></tr></table>"
            ]
          },
          "metadata": {},
          "execution_count": 5
        }
      ]
    },
    {
      "cell_type": "code",
      "source": [
        "# 限界効果の計算\n",
        "def marginal_effects(result):\n",
        "    bhat = result.params\n",
        "    phat = result.fittedvalues\n",
        "    ME = bhat * np.mean(norm.pdf(norm.ppf(phat)))\n",
        "    print(\"Marginal Effects:\", ME)\n",
        "    return ME\n",
        "\n"
      ],
      "metadata": {
        "id": "JQ7vFsREBzZ7"
      },
      "execution_count": null,
      "outputs": []
    },
    {
      "cell_type": "code",
      "source": [
        "marginal_effects(res_bin1)"
      ],
      "metadata": {
        "colab": {
          "base_uri": "https://localhost:8080/",
          "height": 303
        },
        "id": "cBtjd2RuCc7l",
        "outputId": "7681342a-e995-4b2d-a8b0-ad0556b4d3dc"
      },
      "execution_count": null,
      "outputs": [
        {
          "output_type": "stream",
          "name": "stdout",
          "text": [
            "Marginal Effects: Intercept                  0.001410\n",
            "expression == 0[T.True]    0.149270\n",
            "yes                        0.011648\n",
            "no                        -0.016085\n",
            "dtype: float64\n"
          ]
        },
        {
          "output_type": "execute_result",
          "data": {
            "text/plain": [
              "Intercept                  0.001410\n",
              "expression == 0[T.True]    0.149270\n",
              "yes                        0.011648\n",
              "no                        -0.016085\n",
              "dtype: float64"
            ],
            "text/html": [
              "<div>\n",
              "<style scoped>\n",
              "    .dataframe tbody tr th:only-of-type {\n",
              "        vertical-align: middle;\n",
              "    }\n",
              "\n",
              "    .dataframe tbody tr th {\n",
              "        vertical-align: top;\n",
              "    }\n",
              "\n",
              "    .dataframe thead th {\n",
              "        text-align: right;\n",
              "    }\n",
              "</style>\n",
              "<table border=\"1\" class=\"dataframe\">\n",
              "  <thead>\n",
              "    <tr style=\"text-align: right;\">\n",
              "      <th></th>\n",
              "      <th>0</th>\n",
              "    </tr>\n",
              "  </thead>\n",
              "  <tbody>\n",
              "    <tr>\n",
              "      <th>Intercept</th>\n",
              "      <td>0.001410</td>\n",
              "    </tr>\n",
              "    <tr>\n",
              "      <th>expression == 0[T.True]</th>\n",
              "      <td>0.149270</td>\n",
              "    </tr>\n",
              "    <tr>\n",
              "      <th>yes</th>\n",
              "      <td>0.011648</td>\n",
              "    </tr>\n",
              "    <tr>\n",
              "      <th>no</th>\n",
              "      <td>-0.016085</td>\n",
              "    </tr>\n",
              "  </tbody>\n",
              "</table>\n",
              "</div><br><label><b>dtype:</b> float64</label>"
            ]
          },
          "metadata": {},
          "execution_count": 7
        }
      ]
    },
    {
      "cell_type": "code",
      "source": [
        "marginal_effects(res_bin2)"
      ],
      "metadata": {
        "colab": {
          "base_uri": "https://localhost:8080/",
          "height": 604
        },
        "id": "URqAOnT5Ck6O",
        "outputId": "2951ac59-b2fe-44cf-f465-fd41e8470e9b"
      },
      "execution_count": null,
      "outputs": [
        {
          "output_type": "stream",
          "name": "stdout",
          "text": [
            "Marginal Effects: Intercept                  0.001173\n",
            "expression == 0[T.True]    0.163451\n",
            "yes4                       0.005204\n",
            "yes5                       0.067248\n",
            "yes6                       0.057231\n",
            "yesother                  -0.005676\n",
            "no4                       -0.036542\n",
            "no5                        0.018006\n",
            "no6                        0.007093\n",
            "noother                   -0.031955\n",
            "dtype: float64\n"
          ]
        },
        {
          "output_type": "execute_result",
          "data": {
            "text/plain": [
              "Intercept                  0.001173\n",
              "expression == 0[T.True]    0.163451\n",
              "yes4                       0.005204\n",
              "yes5                       0.067248\n",
              "yes6                       0.057231\n",
              "yesother                  -0.005676\n",
              "no4                       -0.036542\n",
              "no5                        0.018006\n",
              "no6                        0.007093\n",
              "noother                   -0.031955\n",
              "dtype: float64"
            ],
            "text/html": [
              "<div>\n",
              "<style scoped>\n",
              "    .dataframe tbody tr th:only-of-type {\n",
              "        vertical-align: middle;\n",
              "    }\n",
              "\n",
              "    .dataframe tbody tr th {\n",
              "        vertical-align: top;\n",
              "    }\n",
              "\n",
              "    .dataframe thead th {\n",
              "        text-align: right;\n",
              "    }\n",
              "</style>\n",
              "<table border=\"1\" class=\"dataframe\">\n",
              "  <thead>\n",
              "    <tr style=\"text-align: right;\">\n",
              "      <th></th>\n",
              "      <th>0</th>\n",
              "    </tr>\n",
              "  </thead>\n",
              "  <tbody>\n",
              "    <tr>\n",
              "      <th>Intercept</th>\n",
              "      <td>0.001173</td>\n",
              "    </tr>\n",
              "    <tr>\n",
              "      <th>expression == 0[T.True]</th>\n",
              "      <td>0.163451</td>\n",
              "    </tr>\n",
              "    <tr>\n",
              "      <th>yes4</th>\n",
              "      <td>0.005204</td>\n",
              "    </tr>\n",
              "    <tr>\n",
              "      <th>yes5</th>\n",
              "      <td>0.067248</td>\n",
              "    </tr>\n",
              "    <tr>\n",
              "      <th>yes6</th>\n",
              "      <td>0.057231</td>\n",
              "    </tr>\n",
              "    <tr>\n",
              "      <th>yesother</th>\n",
              "      <td>-0.005676</td>\n",
              "    </tr>\n",
              "    <tr>\n",
              "      <th>no4</th>\n",
              "      <td>-0.036542</td>\n",
              "    </tr>\n",
              "    <tr>\n",
              "      <th>no5</th>\n",
              "      <td>0.018006</td>\n",
              "    </tr>\n",
              "    <tr>\n",
              "      <th>no6</th>\n",
              "      <td>0.007093</td>\n",
              "    </tr>\n",
              "    <tr>\n",
              "      <th>noother</th>\n",
              "      <td>-0.031955</td>\n",
              "    </tr>\n",
              "  </tbody>\n",
              "</table>\n",
              "</div><br><label><b>dtype:</b> float64</label>"
            ]
          },
          "metadata": {},
          "execution_count": 8
        }
      ]
    },
    {
      "cell_type": "code",
      "source": [
        "marginal_effects(res_bin3)"
      ],
      "metadata": {
        "colab": {
          "base_uri": "https://localhost:8080/",
          "height": 546
        },
        "id": "BwxtpsqFCmGT",
        "outputId": "4ba834b6-744e-46fb-a2b3-dcac078aa01b"
      },
      "execution_count": null,
      "outputs": [
        {
          "output_type": "stream",
          "name": "stdout",
          "text": [
            "Marginal Effects: Intercept    0.054539\n",
            "yes4         0.001882\n",
            "yes5         0.041330\n",
            "yes6        -0.012030\n",
            "yesother     0.003236\n",
            "no4         -0.026195\n",
            "no5          0.001399\n",
            "no6          0.009388\n",
            "noother     -0.010381\n",
            "dtype: float64\n"
          ]
        },
        {
          "output_type": "execute_result",
          "data": {
            "text/plain": [
              "Intercept    0.054539\n",
              "yes4         0.001882\n",
              "yes5         0.041330\n",
              "yes6        -0.012030\n",
              "yesother     0.003236\n",
              "no4         -0.026195\n",
              "no5          0.001399\n",
              "no6          0.009388\n",
              "noother     -0.010381\n",
              "dtype: float64"
            ],
            "text/html": [
              "<div>\n",
              "<style scoped>\n",
              "    .dataframe tbody tr th:only-of-type {\n",
              "        vertical-align: middle;\n",
              "    }\n",
              "\n",
              "    .dataframe tbody tr th {\n",
              "        vertical-align: top;\n",
              "    }\n",
              "\n",
              "    .dataframe thead th {\n",
              "        text-align: right;\n",
              "    }\n",
              "</style>\n",
              "<table border=\"1\" class=\"dataframe\">\n",
              "  <thead>\n",
              "    <tr style=\"text-align: right;\">\n",
              "      <th></th>\n",
              "      <th>0</th>\n",
              "    </tr>\n",
              "  </thead>\n",
              "  <tbody>\n",
              "    <tr>\n",
              "      <th>Intercept</th>\n",
              "      <td>0.054539</td>\n",
              "    </tr>\n",
              "    <tr>\n",
              "      <th>yes4</th>\n",
              "      <td>0.001882</td>\n",
              "    </tr>\n",
              "    <tr>\n",
              "      <th>yes5</th>\n",
              "      <td>0.041330</td>\n",
              "    </tr>\n",
              "    <tr>\n",
              "      <th>yes6</th>\n",
              "      <td>-0.012030</td>\n",
              "    </tr>\n",
              "    <tr>\n",
              "      <th>yesother</th>\n",
              "      <td>0.003236</td>\n",
              "    </tr>\n",
              "    <tr>\n",
              "      <th>no4</th>\n",
              "      <td>-0.026195</td>\n",
              "    </tr>\n",
              "    <tr>\n",
              "      <th>no5</th>\n",
              "      <td>0.001399</td>\n",
              "    </tr>\n",
              "    <tr>\n",
              "      <th>no6</th>\n",
              "      <td>0.009388</td>\n",
              "    </tr>\n",
              "    <tr>\n",
              "      <th>noother</th>\n",
              "      <td>-0.010381</td>\n",
              "    </tr>\n",
              "  </tbody>\n",
              "</table>\n",
              "</div><br><label><b>dtype:</b> float64</label>"
            ]
          },
          "metadata": {},
          "execution_count": 38
        }
      ]
    },
    {
      "cell_type": "code",
      "source": [
        "#######################################################################################\n",
        "import numpy as np\n",
        "import pandas as pd\n",
        "import scipy.stats as stats\n",
        "from statsmodels.miscmodels.ordinal_model import OrderedModel\n",
        "\n",
        "# GitHubのdataを利用\n",
        "url = \"https://raw.githubusercontent.com/Kazuyasus/Econometrics/main/gdm.txt\"\n",
        "\n",
        "# CSVを読み込む\n",
        "gd_mul=pd.read_table(url)\n",
        "\n",
        "gd_mul.head()\n",
        "# 順序ロジット\n",
        "\n",
        "# expression=0 表現が確定している → exp =1\n",
        "# expression!=0 表現が確定していない → exp =0\n",
        "gd_mul[\"exp\"] = 0\n",
        "gd_mul.loc[gd_mul[\"expression\"] == 0, \"exp\"] = 1\n",
        "\n",
        "print(gd_mul[\"exp\"].value_counts())\n",
        "\n",
        "reslt_ord_prb = OrderedModel(gd_mul['ref05'],  gd_mul[['en4', 'en5', 'en6',  'enother', 'reg4', 'reg5', 'reg6', 'regother', 'exp']], distr='probit')\n",
        "res_oprg = reslt_ord_prb.fit(method='bfgs')\n",
        "res_oprg.summary()\n",
        "\n",
        "# 限界効果 (Ordered Probit Model)\n",
        "#不明"
      ],
      "metadata": {
        "colab": {
          "base_uri": "https://localhost:8080/",
          "height": 624
        },
        "id": "RELo-mbbDhIv",
        "outputId": "bdae170c-9a8f-4626-a977-47c300ee588e"
      },
      "execution_count": null,
      "outputs": [
        {
          "output_type": "stream",
          "name": "stdout",
          "text": [
            "exp\n",
            "1    77\n",
            "0    63\n",
            "Name: count, dtype: int64\n",
            "Optimization terminated successfully.\n",
            "         Current function value: 0.559517\n",
            "         Iterations: 29\n",
            "         Function evaluations: 32\n",
            "         Gradient evaluations: 32\n"
          ]
        },
        {
          "output_type": "execute_result",
          "data": {
            "text/plain": [
              "<class 'statsmodels.iolib.summary.Summary'>\n",
              "\"\"\"\n",
              "                             OrderedModel Results                             \n",
              "==============================================================================\n",
              "Dep. Variable:                  ref05   Log-Likelihood:                -78.332\n",
              "Model:                   OrderedModel   AIC:                             178.7\n",
              "Method:            Maximum Likelihood   BIC:                             211.0\n",
              "Date:                Wed, 26 Mar 2025                                         \n",
              "Time:                        08:09:33                                         \n",
              "No. Observations:                 140                                         \n",
              "Df Residuals:                     129                                         \n",
              "Df Model:                           9                                         \n",
              "==============================================================================\n",
              "                 coef    std err          z      P>|z|      [0.025      0.975]\n",
              "------------------------------------------------------------------------------\n",
              "en4            0.0252      0.075      0.335      0.738      -0.122       0.172\n",
              "en5            0.2818      0.092      3.051      0.002       0.101       0.463\n",
              "en6            0.2110      0.229      0.921      0.357      -0.238       0.660\n",
              "enother        0.0749      0.071      1.050      0.294      -0.065       0.215\n",
              "reg4          -0.0851      0.048     -1.761      0.078      -0.180       0.010\n",
              "reg5          -0.0629      0.159     -0.396      0.692      -0.374       0.248\n",
              "reg6          -0.0725      0.239     -0.304      0.761      -0.541       0.396\n",
              "regother      -0.1188      0.074     -1.606      0.108      -0.264       0.026\n",
              "exp            0.8532      0.286      2.983      0.003       0.293       1.414\n",
              "-1/0          -0.3312      0.384     -0.863      0.388      -1.083       0.421\n",
              "0/1            0.3600      0.147      2.444      0.015       0.071       0.649\n",
              "==============================================================================\n",
              "\"\"\""
            ],
            "text/html": [
              "<table class=\"simpletable\">\n",
              "<caption>OrderedModel Results</caption>\n",
              "<tr>\n",
              "  <th>Dep. Variable:</th>           <td>ref05</td>       <th>  Log-Likelihood:    </th> <td> -78.332</td>\n",
              "</tr>\n",
              "<tr>\n",
              "  <th>Model:</th>               <td>OrderedModel</td>    <th>  AIC:               </th> <td>   178.7</td>\n",
              "</tr>\n",
              "<tr>\n",
              "  <th>Method:</th>           <td>Maximum Likelihood</td> <th>  BIC:               </th> <td>   211.0</td>\n",
              "</tr>\n",
              "<tr>\n",
              "  <th>Date:</th>              <td>Wed, 26 Mar 2025</td>  <th>                     </th>     <td> </td>   \n",
              "</tr>\n",
              "<tr>\n",
              "  <th>Time:</th>                  <td>08:09:33</td>      <th>                     </th>     <td> </td>   \n",
              "</tr>\n",
              "<tr>\n",
              "  <th>No. Observations:</th>       <td>   140</td>       <th>                     </th>     <td> </td>   \n",
              "</tr>\n",
              "<tr>\n",
              "  <th>Df Residuals:</th>           <td>   129</td>       <th>                     </th>     <td> </td>   \n",
              "</tr>\n",
              "<tr>\n",
              "  <th>Df Model:</th>               <td>     9</td>       <th>                     </th>     <td> </td>   \n",
              "</tr>\n",
              "</table>\n",
              "<table class=\"simpletable\">\n",
              "<tr>\n",
              "      <td></td>        <th>coef</th>     <th>std err</th>      <th>z</th>      <th>P>|z|</th>  <th>[0.025</th>    <th>0.975]</th>  \n",
              "</tr>\n",
              "<tr>\n",
              "  <th>en4</th>      <td>    0.0252</td> <td>    0.075</td> <td>    0.335</td> <td> 0.738</td> <td>   -0.122</td> <td>    0.172</td>\n",
              "</tr>\n",
              "<tr>\n",
              "  <th>en5</th>      <td>    0.2818</td> <td>    0.092</td> <td>    3.051</td> <td> 0.002</td> <td>    0.101</td> <td>    0.463</td>\n",
              "</tr>\n",
              "<tr>\n",
              "  <th>en6</th>      <td>    0.2110</td> <td>    0.229</td> <td>    0.921</td> <td> 0.357</td> <td>   -0.238</td> <td>    0.660</td>\n",
              "</tr>\n",
              "<tr>\n",
              "  <th>enother</th>  <td>    0.0749</td> <td>    0.071</td> <td>    1.050</td> <td> 0.294</td> <td>   -0.065</td> <td>    0.215</td>\n",
              "</tr>\n",
              "<tr>\n",
              "  <th>reg4</th>     <td>   -0.0851</td> <td>    0.048</td> <td>   -1.761</td> <td> 0.078</td> <td>   -0.180</td> <td>    0.010</td>\n",
              "</tr>\n",
              "<tr>\n",
              "  <th>reg5</th>     <td>   -0.0629</td> <td>    0.159</td> <td>   -0.396</td> <td> 0.692</td> <td>   -0.374</td> <td>    0.248</td>\n",
              "</tr>\n",
              "<tr>\n",
              "  <th>reg6</th>     <td>   -0.0725</td> <td>    0.239</td> <td>   -0.304</td> <td> 0.761</td> <td>   -0.541</td> <td>    0.396</td>\n",
              "</tr>\n",
              "<tr>\n",
              "  <th>regother</th> <td>   -0.1188</td> <td>    0.074</td> <td>   -1.606</td> <td> 0.108</td> <td>   -0.264</td> <td>    0.026</td>\n",
              "</tr>\n",
              "<tr>\n",
              "  <th>exp</th>      <td>    0.8532</td> <td>    0.286</td> <td>    2.983</td> <td> 0.003</td> <td>    0.293</td> <td>    1.414</td>\n",
              "</tr>\n",
              "<tr>\n",
              "  <th>-1/0</th>     <td>   -0.3312</td> <td>    0.384</td> <td>   -0.863</td> <td> 0.388</td> <td>   -1.083</td> <td>    0.421</td>\n",
              "</tr>\n",
              "<tr>\n",
              "  <th>0/1</th>      <td>    0.3600</td> <td>    0.147</td> <td>    2.444</td> <td> 0.015</td> <td>    0.071</td> <td>    0.649</td>\n",
              "</tr>\n",
              "</table>"
            ],
            "text/latex": "\\begin{center}\n\\begin{tabular}{lclc}\n\\toprule\n\\textbf{Dep. Variable:}    &       ref05        & \\textbf{  Log-Likelihood:    } &   -78.332   \\\\\n\\textbf{Model:}            &    OrderedModel    & \\textbf{  AIC:               } &     178.7   \\\\\n\\textbf{Method:}           & Maximum Likelihood & \\textbf{  BIC:               } &     211.0   \\\\\n\\textbf{Date:}             &  Wed, 26 Mar 2025  & \\textbf{                     } &             \\\\\n\\textbf{Time:}             &      08:09:33      & \\textbf{                     } &             \\\\\n\\textbf{No. Observations:} &          140       & \\textbf{                     } &             \\\\\n\\textbf{Df Residuals:}     &          129       & \\textbf{                     } &             \\\\\n\\textbf{Df Model:}         &            9       & \\textbf{                     } &             \\\\\n\\bottomrule\n\\end{tabular}\n\\begin{tabular}{lcccccc}\n                  & \\textbf{coef} & \\textbf{std err} & \\textbf{z} & \\textbf{P$> |$z$|$} & \\textbf{[0.025} & \\textbf{0.975]}  \\\\\n\\midrule\n\\textbf{en4}      &       0.0252  &        0.075     &     0.335  &         0.738        &       -0.122    &        0.172     \\\\\n\\textbf{en5}      &       0.2818  &        0.092     &     3.051  &         0.002        &        0.101    &        0.463     \\\\\n\\textbf{en6}      &       0.2110  &        0.229     &     0.921  &         0.357        &       -0.238    &        0.660     \\\\\n\\textbf{enother}  &       0.0749  &        0.071     &     1.050  &         0.294        &       -0.065    &        0.215     \\\\\n\\textbf{reg4}     &      -0.0851  &        0.048     &    -1.761  &         0.078        &       -0.180    &        0.010     \\\\\n\\textbf{reg5}     &      -0.0629  &        0.159     &    -0.396  &         0.692        &       -0.374    &        0.248     \\\\\n\\textbf{reg6}     &      -0.0725  &        0.239     &    -0.304  &         0.761        &       -0.541    &        0.396     \\\\\n\\textbf{regother} &      -0.1188  &        0.074     &    -1.606  &         0.108        &       -0.264    &        0.026     \\\\\n\\textbf{exp}      &       0.8532  &        0.286     &     2.983  &         0.003        &        0.293    &        1.414     \\\\\n\\textbf{-1/0}     &      -0.3312  &        0.384     &    -0.863  &         0.388        &       -1.083    &        0.421     \\\\\n\\textbf{0/1}      &       0.3600  &        0.147     &     2.444  &         0.015        &        0.071    &        0.649     \\\\\n\\bottomrule\n\\end{tabular}\n%\\caption{OrderedModel Results}\n\\end{center}"
          },
          "metadata": {},
          "execution_count": 9
        }
      ]
    },
    {
      "cell_type": "code",
      "source": [
        "#順序ロジット\n",
        "reslt_ord_lgt = OrderedModel(gd_mul['ref05'],  gd_mul[['en4', 'en5', 'en6',  'enother', 'reg4', 'reg5', 'reg6', 'regother', 'exp']], distr='logit')\n",
        "res_olgt = reslt_ord_lgt.fit(method='bfgs')\n",
        "res_olgt.summary()\n",
        "\n",
        "# 限界効果 (Ordered logit Model)\n",
        "# 現時点で、順序ロジットの限界効果の計算方法は実装されていません。"
      ],
      "metadata": {
        "colab": {
          "base_uri": "https://localhost:8080/",
          "height": 556
        },
        "id": "42ZzKottmLjr",
        "outputId": "5dc7339d-0ffe-4102-e3cf-750748f49a11"
      },
      "execution_count": null,
      "outputs": [
        {
          "output_type": "stream",
          "name": "stdout",
          "text": [
            "Optimization terminated successfully.\n",
            "         Current function value: 0.549025\n",
            "         Iterations: 42\n",
            "         Function evaluations: 45\n",
            "         Gradient evaluations: 45\n"
          ]
        },
        {
          "output_type": "execute_result",
          "data": {
            "text/plain": [
              "<class 'statsmodels.iolib.summary.Summary'>\n",
              "\"\"\"\n",
              "                             OrderedModel Results                             \n",
              "==============================================================================\n",
              "Dep. Variable:                  ref05   Log-Likelihood:                -76.864\n",
              "Model:                   OrderedModel   AIC:                             175.7\n",
              "Method:            Maximum Likelihood   BIC:                             208.1\n",
              "Date:                Sat, 15 Mar 2025                                         \n",
              "Time:                        03:23:39                                         \n",
              "No. Observations:                 140                                         \n",
              "Df Residuals:                     129                                         \n",
              "Df Model:                           9                                         \n",
              "==============================================================================\n",
              "                 coef    std err          z      P>|z|      [0.025      0.975]\n",
              "------------------------------------------------------------------------------\n",
              "en4           -0.0143      0.145     -0.099      0.921      -0.299       0.271\n",
              "en5            0.5544      0.174      3.186      0.001       0.213       0.895\n",
              "en6            0.4343      0.411      1.058      0.290      -0.370       1.239\n",
              "enother        0.2182      0.140      1.555      0.120      -0.057       0.493\n",
              "reg4          -0.1651      0.086     -1.930      0.054      -0.333       0.003\n",
              "reg5          -0.0611      0.276     -0.221      0.825      -0.602       0.480\n",
              "reg6          -0.3160      0.448     -0.706      0.480      -1.193       0.561\n",
              "regother      -0.1654      0.130     -1.271      0.204      -0.420       0.090\n",
              "exp            1.3361      0.508      2.631      0.009       0.341       2.331\n",
              "-1/0          -0.1966      0.701     -0.281      0.779      -1.570       1.176\n",
              "0/1            0.9859      0.160      6.154      0.000       0.672       1.300\n",
              "==============================================================================\n",
              "\"\"\""
            ],
            "text/html": [
              "<table class=\"simpletable\">\n",
              "<caption>OrderedModel Results</caption>\n",
              "<tr>\n",
              "  <th>Dep. Variable:</th>           <td>ref05</td>       <th>  Log-Likelihood:    </th> <td> -76.864</td>\n",
              "</tr>\n",
              "<tr>\n",
              "  <th>Model:</th>               <td>OrderedModel</td>    <th>  AIC:               </th> <td>   175.7</td>\n",
              "</tr>\n",
              "<tr>\n",
              "  <th>Method:</th>           <td>Maximum Likelihood</td> <th>  BIC:               </th> <td>   208.1</td>\n",
              "</tr>\n",
              "<tr>\n",
              "  <th>Date:</th>              <td>Sat, 15 Mar 2025</td>  <th>                     </th>     <td> </td>   \n",
              "</tr>\n",
              "<tr>\n",
              "  <th>Time:</th>                  <td>03:23:39</td>      <th>                     </th>     <td> </td>   \n",
              "</tr>\n",
              "<tr>\n",
              "  <th>No. Observations:</th>       <td>   140</td>       <th>                     </th>     <td> </td>   \n",
              "</tr>\n",
              "<tr>\n",
              "  <th>Df Residuals:</th>           <td>   129</td>       <th>                     </th>     <td> </td>   \n",
              "</tr>\n",
              "<tr>\n",
              "  <th>Df Model:</th>               <td>     9</td>       <th>                     </th>     <td> </td>   \n",
              "</tr>\n",
              "</table>\n",
              "<table class=\"simpletable\">\n",
              "<tr>\n",
              "      <td></td>        <th>coef</th>     <th>std err</th>      <th>z</th>      <th>P>|z|</th>  <th>[0.025</th>    <th>0.975]</th>  \n",
              "</tr>\n",
              "<tr>\n",
              "  <th>en4</th>      <td>   -0.0143</td> <td>    0.145</td> <td>   -0.099</td> <td> 0.921</td> <td>   -0.299</td> <td>    0.271</td>\n",
              "</tr>\n",
              "<tr>\n",
              "  <th>en5</th>      <td>    0.5544</td> <td>    0.174</td> <td>    3.186</td> <td> 0.001</td> <td>    0.213</td> <td>    0.895</td>\n",
              "</tr>\n",
              "<tr>\n",
              "  <th>en6</th>      <td>    0.4343</td> <td>    0.411</td> <td>    1.058</td> <td> 0.290</td> <td>   -0.370</td> <td>    1.239</td>\n",
              "</tr>\n",
              "<tr>\n",
              "  <th>enother</th>  <td>    0.2182</td> <td>    0.140</td> <td>    1.555</td> <td> 0.120</td> <td>   -0.057</td> <td>    0.493</td>\n",
              "</tr>\n",
              "<tr>\n",
              "  <th>reg4</th>     <td>   -0.1651</td> <td>    0.086</td> <td>   -1.930</td> <td> 0.054</td> <td>   -0.333</td> <td>    0.003</td>\n",
              "</tr>\n",
              "<tr>\n",
              "  <th>reg5</th>     <td>   -0.0611</td> <td>    0.276</td> <td>   -0.221</td> <td> 0.825</td> <td>   -0.602</td> <td>    0.480</td>\n",
              "</tr>\n",
              "<tr>\n",
              "  <th>reg6</th>     <td>   -0.3160</td> <td>    0.448</td> <td>   -0.706</td> <td> 0.480</td> <td>   -1.193</td> <td>    0.561</td>\n",
              "</tr>\n",
              "<tr>\n",
              "  <th>regother</th> <td>   -0.1654</td> <td>    0.130</td> <td>   -1.271</td> <td> 0.204</td> <td>   -0.420</td> <td>    0.090</td>\n",
              "</tr>\n",
              "<tr>\n",
              "  <th>exp</th>      <td>    1.3361</td> <td>    0.508</td> <td>    2.631</td> <td> 0.009</td> <td>    0.341</td> <td>    2.331</td>\n",
              "</tr>\n",
              "<tr>\n",
              "  <th>-1/0</th>     <td>   -0.1966</td> <td>    0.701</td> <td>   -0.281</td> <td> 0.779</td> <td>   -1.570</td> <td>    1.176</td>\n",
              "</tr>\n",
              "<tr>\n",
              "  <th>0/1</th>      <td>    0.9859</td> <td>    0.160</td> <td>    6.154</td> <td> 0.000</td> <td>    0.672</td> <td>    1.300</td>\n",
              "</tr>\n",
              "</table>"
            ],
            "text/latex": "\\begin{center}\n\\begin{tabular}{lclc}\n\\toprule\n\\textbf{Dep. Variable:}    &       ref05        & \\textbf{  Log-Likelihood:    } &   -76.864   \\\\\n\\textbf{Model:}            &    OrderedModel    & \\textbf{  AIC:               } &     175.7   \\\\\n\\textbf{Method:}           & Maximum Likelihood & \\textbf{  BIC:               } &     208.1   \\\\\n\\textbf{Date:}             &  Sat, 15 Mar 2025  & \\textbf{                     } &             \\\\\n\\textbf{Time:}             &      03:23:39      & \\textbf{                     } &             \\\\\n\\textbf{No. Observations:} &          140       & \\textbf{                     } &             \\\\\n\\textbf{Df Residuals:}     &          129       & \\textbf{                     } &             \\\\\n\\textbf{Df Model:}         &            9       & \\textbf{                     } &             \\\\\n\\bottomrule\n\\end{tabular}\n\\begin{tabular}{lcccccc}\n                  & \\textbf{coef} & \\textbf{std err} & \\textbf{z} & \\textbf{P$> |$z$|$} & \\textbf{[0.025} & \\textbf{0.975]}  \\\\\n\\midrule\n\\textbf{en4}      &      -0.0143  &        0.145     &    -0.099  &         0.921        &       -0.299    &        0.271     \\\\\n\\textbf{en5}      &       0.5544  &        0.174     &     3.186  &         0.001        &        0.213    &        0.895     \\\\\n\\textbf{en6}      &       0.4343  &        0.411     &     1.058  &         0.290        &       -0.370    &        1.239     \\\\\n\\textbf{enother}  &       0.2182  &        0.140     &     1.555  &         0.120        &       -0.057    &        0.493     \\\\\n\\textbf{reg4}     &      -0.1651  &        0.086     &    -1.930  &         0.054        &       -0.333    &        0.003     \\\\\n\\textbf{reg5}     &      -0.0611  &        0.276     &    -0.221  &         0.825        &       -0.602    &        0.480     \\\\\n\\textbf{reg6}     &      -0.3160  &        0.448     &    -0.706  &         0.480        &       -1.193    &        0.561     \\\\\n\\textbf{regother} &      -0.1654  &        0.130     &    -1.271  &         0.204        &       -0.420    &        0.090     \\\\\n\\textbf{exp}      &       1.3361  &        0.508     &     2.631  &         0.009        &        0.341    &        2.331     \\\\\n\\textbf{-1/0}     &      -0.1966  &        0.701     &    -0.281  &         0.779        &       -1.570    &        1.176     \\\\\n\\textbf{0/1}      &       0.9859  &        0.160     &     6.154  &         0.000        &        0.672    &        1.300     \\\\\n\\bottomrule\n\\end{tabular}\n%\\caption{OrderedModel Results}\n\\end{center}"
          },
          "metadata": {},
          "execution_count": 40
        }
      ]
    },
    {
      "cell_type": "code",
      "source": [
        "#多項ロジットモデル\n",
        "\n",
        "# 説明変数と目的変数\n",
        "X = gd_mul[['en4', 'en5', 'en6', 'enother', 'reg4', 'reg5', 'reg6', 'regother', 'exp']]\n",
        "y = gd_mul['ref05']\n",
        "\n",
        "# `ref05` をカテゴリ型に変換\n",
        "y = y.astype(int)\n",
        "y = y.astype('category')\n",
        "\n",
        "# 定数（切片）を追加\n",
        "X = sm.add_constant(X)\n",
        "\n",
        "# Multinomial Logit モデルを適用\n",
        "model = sm.MNLogit(y, X)\n",
        "#result = model.fit(method='newton', maxiter=1000, disp=False)\n",
        "result = model.fit()\n",
        "\n",
        "# 結果の表示\n",
        "print(result.summary())\n",
        "\n"
      ],
      "metadata": {
        "colab": {
          "base_uri": "https://localhost:8080/"
        },
        "id": "2jYzRSxVRFs3",
        "outputId": "bf674720-6951-4c40-e02f-ff6b42896f3f"
      },
      "execution_count": null,
      "outputs": [
        {
          "output_type": "stream",
          "name": "stdout",
          "text": [
            "Optimization terminated successfully.\n",
            "         Current function value: 0.479533\n",
            "         Iterations 8\n",
            "                          MNLogit Regression Results                          \n",
            "==============================================================================\n",
            "Dep. Variable:                  ref05   No. Observations:                  140\n",
            "Model:                        MNLogit   Df Residuals:                      120\n",
            "Method:                           MLE   Df Model:                           18\n",
            "Date:                Wed, 26 Mar 2025   Pseudo R-squ.:                  0.5033\n",
            "Time:                        08:15:12   Log-Likelihood:                -67.135\n",
            "converged:                       True   LL-Null:                       -135.17\n",
            "Covariance Type:            nonrobust   LLR p-value:                 3.654e-20\n",
            "==============================================================================\n",
            "   ref05=0       coef    std err          z      P>|z|      [0.025      0.975]\n",
            "------------------------------------------------------------------------------\n",
            "const          1.6971      1.038      1.634      0.102      -0.338       3.732\n",
            "en4           -0.3928      0.243     -1.613      0.107      -0.870       0.084\n",
            "en5            0.2983      0.244      1.220      0.222      -0.181       0.777\n",
            "en6           -0.2257      0.687     -0.328      0.743      -1.573       1.122\n",
            "enother        0.1175      0.223      0.527      0.598      -0.320       0.555\n",
            "reg4          -0.0552      0.110     -0.503      0.615      -0.270       0.160\n",
            "reg5          -0.5399      0.395     -1.366      0.172      -1.314       0.235\n",
            "reg6          -0.6557      0.600     -1.093      0.274      -1.832       0.520\n",
            "regother      -0.1533      0.193     -0.793      0.428      -0.532       0.226\n",
            "exp           -0.6466      0.858     -0.754      0.451      -2.328       1.034\n",
            "------------------------------------------------------------------------------\n",
            "   ref05=1       coef    std err          z      P>|z|      [0.025      0.975]\n",
            "------------------------------------------------------------------------------\n",
            "const         -1.7877      1.230     -1.453      0.146      -4.198       0.623\n",
            "en4           -0.1042      0.222     -0.470      0.639      -0.539       0.331\n",
            "en5            0.8095      0.301      2.687      0.007       0.219       1.400\n",
            "en6            0.4910      0.743      0.661      0.509      -0.966       1.948\n",
            "enother        0.2806      0.236      1.190      0.234      -0.182       0.743\n",
            "reg4          -0.3371      0.169     -1.998      0.046      -0.668      -0.006\n",
            "reg5           0.1624      0.476      0.341      0.733      -0.771       1.096\n",
            "reg6           0.0039      0.676      0.006      0.995      -1.322       1.330\n",
            "regother      -0.2301      0.240     -0.960      0.337      -0.700       0.240\n",
            "exp            2.0576      0.873      2.358      0.018       0.347       3.768\n",
            "==============================================================================\n"
          ]
        }
      ]
    },
    {
      "cell_type": "code",
      "source": [
        "#多項ロジットモデル\n",
        "##Defaltでは目的変数()\"ref05\")の一番小さい値(この場合\"-1\")をBase Outcomeとする\n",
        "# 以下では、ref05を\"0\"をbase categoryとするために、-1を\"REG\"(文字変数)に変換し、順序を入れ替える\n",
        "# \"ref05\" (目的変数) をカテゴリ型に変換\n",
        "gd_mul[\"regen05\"] = gd_mul[\"ref05\"].replace(-1, \"REG\").astype(\"category\")\n",
        "\n",
        "# 説明変数の選択\n",
        "X = gd_mul[['en4', 'en5', 'en6', 'enother', 'reg4', 'reg5', 'reg6', 'regother', 'exp']]\n",
        "X = sm.add_constant(X)  # 切片を追加\n",
        "\n",
        "# 多項ロジット回帰 (Multinomial Logit) - ref05=-1 を \"REG\" に変換\n",
        "model2 = sm.MNLogit(gd_mul[\"regen05\"], X)\n",
        "result2 = model2.fit()\n",
        "\n",
        "# 結果の表示\n",
        "print(result2.summary())\n",
        "\n",
        "\n"
      ],
      "metadata": {
        "colab": {
          "base_uri": "https://localhost:8080/"
        },
        "id": "wScZNPyPT5GJ",
        "outputId": "7babdf8e-8a1d-4c2d-b683-1f1a12c5b778"
      },
      "execution_count": null,
      "outputs": [
        {
          "output_type": "stream",
          "name": "stdout",
          "text": [
            "Optimization terminated successfully.\n",
            "         Current function value: 0.479533\n",
            "         Iterations 8\n",
            "                          MNLogit Regression Results                          \n",
            "==============================================================================\n",
            "Dep. Variable:                regen05   No. Observations:                  140\n",
            "Model:                        MNLogit   Df Residuals:                      120\n",
            "Method:                           MLE   Df Model:                           18\n",
            "Date:                Wed, 26 Mar 2025   Pseudo R-squ.:                  0.5033\n",
            "Time:                        08:19:36   Log-Likelihood:                -67.135\n",
            "converged:                       True   LL-Null:                       -135.17\n",
            "Covariance Type:            nonrobust   LLR p-value:                 3.654e-20\n",
            "===============================================================================\n",
            "  regen05=1       coef    std err          z      P>|z|      [0.025      0.975]\n",
            "-------------------------------------------------------------------------------\n",
            "const          -3.4847      1.139     -3.059      0.002      -5.718      -1.252\n",
            "en4             0.2885      0.207      1.396      0.163      -0.117       0.694\n",
            "en5             0.5112      0.266      1.919      0.055      -0.011       1.033\n",
            "en6             0.7167      0.559      1.282      0.200      -0.379       1.812\n",
            "enother         0.1631      0.188      0.869      0.385      -0.205       0.531\n",
            "reg4           -0.2819      0.156     -1.803      0.071      -0.588       0.025\n",
            "reg5            0.7024      0.513      1.370      0.171      -0.302       1.707\n",
            "reg6            0.6595      0.668      0.987      0.324      -0.650       1.969\n",
            "regother       -0.0768      0.216     -0.355      0.722      -0.500       0.347\n",
            "exp             2.7043      0.759      3.564      0.000       1.217       4.191\n",
            "-------------------------------------------------------------------------------\n",
            "regen05=REG       coef    std err          z      P>|z|      [0.025      0.975]\n",
            "-------------------------------------------------------------------------------\n",
            "const          -1.6971      1.038     -1.634      0.102      -3.732       0.338\n",
            "en4             0.3928      0.243      1.613      0.107      -0.084       0.870\n",
            "en5            -0.2983      0.244     -1.220      0.222      -0.777       0.181\n",
            "en6             0.2257      0.687      0.328      0.743      -1.122       1.573\n",
            "enother        -0.1175      0.223     -0.527      0.598      -0.555       0.320\n",
            "reg4            0.0552      0.110      0.503      0.615      -0.160       0.270\n",
            "reg5            0.5399      0.395      1.366      0.172      -0.235       1.314\n",
            "reg6            0.6557      0.600      1.093      0.274      -0.520       1.832\n",
            "regother        0.1533      0.193      0.793      0.428      -0.226       0.532\n",
            "exp             0.6466      0.858      0.754      0.451      -1.034       2.328\n",
            "===============================================================================\n",
            "\n",
            "### オッズ比 (Base = REG) ###\n",
            "                   0         1\n",
            "const      0.030663  0.183222\n",
            "en4        1.334466  1.481087\n",
            "en5        1.667359  0.742111\n",
            "en6        2.047677  1.253249\n",
            "enother    1.177126  0.889159\n",
            "reg4       0.754354  1.056750\n",
            "reg5       2.018495  1.715866\n",
            "reg6       1.933884  1.926402\n",
            "regother   0.926089  1.165673\n",
            "exp       14.943532  1.909094\n"
          ]
        }
      ]
    },
    {
      "cell_type": "code",
      "source": [
        "# オッズ比の計算\n",
        "odds_ratios2 = np.exp(result2.params)\n",
        "print(\"\\n### オッズ比 (Base = REG) ###\\n\", odds_ratios2)"
      ],
      "metadata": {
        "colab": {
          "base_uri": "https://localhost:8080/"
        },
        "id": "hTnNqtYPqJOu",
        "outputId": "ff99acef-9bb0-4794-ad9e-588a8215bd17"
      },
      "execution_count": null,
      "outputs": [
        {
          "output_type": "stream",
          "name": "stdout",
          "text": [
            "\n",
            "### オッズ比 (Base = REG) ###\n",
            "                   0         1\n",
            "const      0.030663  0.183222\n",
            "en4        1.334466  1.481087\n",
            "en5        1.667359  0.742111\n",
            "en6        2.047677  1.253249\n",
            "enother    1.177126  0.889159\n",
            "reg4       0.754354  1.056750\n",
            "reg5       2.018495  1.715866\n",
            "reg6       1.933884  1.926402\n",
            "regother   0.926089  1.165673\n",
            "exp       14.943532  1.909094\n"
          ]
        }
      ]
    }
  ]
}