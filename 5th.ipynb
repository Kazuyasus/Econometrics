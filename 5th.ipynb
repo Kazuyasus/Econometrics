{
  "nbformat": 4,
  "nbformat_minor": 0,
  "metadata": {
    "colab": {
      "provenance": [],
      "authorship_tag": "ABX9TyM4wlWW+6T74Uno+34UzzV4",
      "include_colab_link": true
    },
    "kernelspec": {
      "name": "python3",
      "display_name": "Python 3"
    },
    "language_info": {
      "name": "python"
    }
  },
  "cells": [
    {
      "cell_type": "markdown",
      "metadata": {
        "id": "view-in-github",
        "colab_type": "text"
      },
      "source": [
        "<a href=\"https://colab.research.google.com/github/Kazuyasus/Econometrics/blob/main/5th.ipynb\" target=\"_parent\"><img src=\"https://colab.research.google.com/assets/colab-badge.svg\" alt=\"Open In Colab\"/></a>"
      ]
    },
    {
      "cell_type": "code",
      "execution_count": null,
      "metadata": {
        "id": "7mZdUKZ8Pfok"
      },
      "outputs": [],
      "source": [
        "import pandas as pd\n",
        "import numpy as np\n",
        "import matplotlib.pyplot as plt\n",
        "import seaborn as sns\n",
        "import scipy.stats as stats\n",
        "import statsmodels.api as sm\n",
        "import statsmodels.formula.api as smf\n",
        "from statsmodels.formula.api import ols\n",
        "\n",
        "# 作業ディレクトリの設定\n",
        "# GitHubのdataを利用\n",
        "url = \"https://raw.githubusercontent.com/Kazuyasus/Econometrics/main/criminal.csv\"\n",
        "\n",
        "# CSVを読み込む\n",
        "df=pd.read_csv(url)\n"
      ]
    },
    {
      "cell_type": "markdown",
      "source": [],
      "metadata": {
        "id": "PQ5fQs6xb5gH"
      }
    },
    {
      "cell_type": "code",
      "source": [
        "# 変数の対数変換（0をNaNに置き換える）\n",
        "df[\"lncrime\"] = np.log(df[\"crime\"].replace(0, np.nan))\n",
        "df[\"lnunemp\"] = np.log(df[\"unemp\"].replace(0, np.nan))\n",
        "df[\"lnpop\"] = np.log(df[\"pop\"].replace(0, np.nan))\n"
      ],
      "metadata": {
        "id": "YPApLXk_Ri-_"
      },
      "execution_count": null,
      "outputs": []
    },
    {
      "cell_type": "code",
      "source": [
        "# 最小二乗法(単回帰)その1\n",
        "ols_s = smf.ols(\"lncrime ~ lnunemp\", data=df).fit()\n",
        "# 結果を表示\n",
        "print(ols_s.summary())\n"
      ],
      "metadata": {
        "colab": {
          "base_uri": "https://localhost:8080/"
        },
        "id": "ZFU8uw4BR6Fa",
        "outputId": "23f3d9f2-c8fd-4e9a-ce65-642ef315722b"
      },
      "execution_count": null,
      "outputs": [
        {
          "output_type": "stream",
          "name": "stdout",
          "text": [
            "                            OLS Regression Results                            \n",
            "==============================================================================\n",
            "Dep. Variable:                lncrime   R-squared:                       0.897\n",
            "Model:                            OLS   Adj. R-squared:                  0.897\n",
            "Method:                 Least Squares   F-statistic:                 1.498e+04\n",
            "Date:                Mon, 24 Mar 2025   Prob (F-statistic):               0.00\n",
            "Time:                        01:58:46   Log-Likelihood:                -1592.1\n",
            "No. Observations:                1726   AIC:                             3188.\n",
            "Df Residuals:                    1724   BIC:                             3199.\n",
            "Df Model:                           1                                         \n",
            "Covariance Type:            nonrobust                                         \n",
            "==============================================================================\n",
            "                 coef    std err          t      P>|t|      [0.025      0.975]\n",
            "------------------------------------------------------------------------------\n",
            "Intercept     -2.4395      0.064    -37.873      0.000      -2.566      -2.313\n",
            "lnunemp        1.1691      0.010    122.406      0.000       1.150       1.188\n",
            "==============================================================================\n",
            "Omnibus:                       97.302   Durbin-Watson:                   0.965\n",
            "Prob(Omnibus):                  0.000   Jarque-Bera (JB):              383.130\n",
            "Skew:                          -0.008   Prob(JB):                     6.37e-84\n",
            "Kurtosis:                       5.308   Cond. No.                         30.3\n",
            "==============================================================================\n",
            "\n",
            "Notes:\n",
            "[1] Standard Errors assume that the covariance matrix of the errors is correctly specified.\n"
          ]
        }
      ]
    },
    {
      "cell_type": "code",
      "source": [
        "# 最小二乗法(単回帰)その2\n",
        "# 線形回帰に使用するライブラリの読み込み\n",
        "formula = 'lncrime ~ lnunemp'  # formula = y ~ x と記述する\n",
        "model = ols(formula, data=df).fit() # 均一分散\n",
        "\n",
        "# 結果を表示\n",
        "print(model.summary())\n"
      ],
      "metadata": {
        "colab": {
          "base_uri": "https://localhost:8080/"
        },
        "id": "338ZBf1DreOg",
        "outputId": "29ab6165-3e35-4db2-c159-b2e474a10ecb"
      },
      "execution_count": null,
      "outputs": [
        {
          "output_type": "stream",
          "name": "stdout",
          "text": [
            "                            OLS Regression Results                            \n",
            "==============================================================================\n",
            "Dep. Variable:                lncrime   R-squared:                       0.897\n",
            "Model:                            OLS   Adj. R-squared:                  0.897\n",
            "Method:                 Least Squares   F-statistic:                 1.498e+04\n",
            "Date:                Mon, 24 Mar 2025   Prob (F-statistic):               0.00\n",
            "Time:                        01:58:54   Log-Likelihood:                -1592.1\n",
            "No. Observations:                1726   AIC:                             3188.\n",
            "Df Residuals:                    1724   BIC:                             3199.\n",
            "Df Model:                           1                                         \n",
            "Covariance Type:            nonrobust                                         \n",
            "==============================================================================\n",
            "                 coef    std err          t      P>|t|      [0.025      0.975]\n",
            "------------------------------------------------------------------------------\n",
            "Intercept     -2.4395      0.064    -37.873      0.000      -2.566      -2.313\n",
            "lnunemp        1.1691      0.010    122.406      0.000       1.150       1.188\n",
            "==============================================================================\n",
            "Omnibus:                       97.302   Durbin-Watson:                   0.965\n",
            "Prob(Omnibus):                  0.000   Jarque-Bera (JB):              383.130\n",
            "Skew:                          -0.008   Prob(JB):                     6.37e-84\n",
            "Kurtosis:                       5.308   Cond. No.                         30.3\n",
            "==============================================================================\n",
            "\n",
            "Notes:\n",
            "[1] Standard Errors assume that the covariance matrix of the errors is correctly specified.\n"
          ]
        }
      ]
    },
    {
      "cell_type": "code",
      "source": [
        "# 最小二乗法(重回帰)\n",
        "ols_m = smf.ols(\"lncrime ~ lnunemp + lnpop\", data=df).fit()\n",
        "print(ols_m.summary())"
      ],
      "metadata": {
        "colab": {
          "base_uri": "https://localhost:8080/"
        },
        "id": "HcMziK0ZSCg7",
        "outputId": "61c2fe6d-8573-418f-968d-71fa22350c20"
      },
      "execution_count": null,
      "outputs": [
        {
          "output_type": "stream",
          "name": "stdout",
          "text": [
            "                            OLS Regression Results                            \n",
            "==============================================================================\n",
            "Dep. Variable:                lncrime   R-squared:                       0.923\n",
            "Model:                            OLS   Adj. R-squared:                  0.923\n",
            "Method:                 Least Squares   F-statistic:                 1.029e+04\n",
            "Date:                Mon, 24 Mar 2025   Prob (F-statistic):               0.00\n",
            "Time:                        01:58:58   Log-Likelihood:                -1342.4\n",
            "No. Observations:                1726   AIC:                             2691.\n",
            "Df Residuals:                    1723   BIC:                             2707.\n",
            "Df Model:                           2                                         \n",
            "Covariance Type:            nonrobust                                         \n",
            "==============================================================================\n",
            "                 coef    std err          t      P>|t|      [0.025      0.975]\n",
            "------------------------------------------------------------------------------\n",
            "Intercept     -6.9770      0.197    -35.455      0.000      -7.363      -6.591\n",
            "lnunemp        0.2199      0.040      5.450      0.000       0.141       0.299\n",
            "lnpop          1.0584      0.044     24.043      0.000       0.972       1.145\n",
            "==============================================================================\n",
            "Omnibus:                       62.647   Durbin-Watson:                   1.024\n",
            "Prob(Omnibus):                  0.000   Jarque-Bera (JB):              156.229\n",
            "Skew:                           0.142   Prob(JB):                     1.19e-34\n",
            "Kurtosis:                       4.446   Cond. No.                         198.\n",
            "==============================================================================\n",
            "\n",
            "Notes:\n",
            "[1] Standard Errors assume that the covariance matrix of the errors is correctly specified.\n"
          ]
        }
      ]
    },
    {
      "cell_type": "code",
      "source": [
        "# 交差項を含む重回帰\n",
        "df[\"lnunemp_pop\"] = df[\"lnunemp\"] * df[\"lnpop\"]\n",
        "ols_int = smf.ols(\"lncrime ~ lnunemp + lnpop + lnunemp_pop\", data=df).fit()\n",
        "print(ols_int.summary())"
      ],
      "metadata": {
        "colab": {
          "base_uri": "https://localhost:8080/"
        },
        "id": "LCT8V_nuSJMA",
        "outputId": "74cea970-5da0-4628-d553-4f08808a8061"
      },
      "execution_count": null,
      "outputs": [
        {
          "output_type": "stream",
          "name": "stdout",
          "text": [
            "                            OLS Regression Results                            \n",
            "==============================================================================\n",
            "Dep. Variable:                lncrime   R-squared:                       0.923\n",
            "Model:                            OLS   Adj. R-squared:                  0.923\n",
            "Method:                 Least Squares   F-statistic:                     6855.\n",
            "Date:                Mon, 24 Mar 2025   Prob (F-statistic):               0.00\n",
            "Time:                        01:59:01   Log-Likelihood:                -1342.4\n",
            "No. Observations:                1726   AIC:                             2693.\n",
            "Df Residuals:                    1722   BIC:                             2715.\n",
            "Df Model:                           3                                         \n",
            "Covariance Type:            nonrobust                                         \n",
            "===============================================================================\n",
            "                  coef    std err          t      P>|t|      [0.025      0.975]\n",
            "-------------------------------------------------------------------------------\n",
            "Intercept      -6.8935      0.386    -17.844      0.000      -7.651      -6.136\n",
            "lnunemp         0.2114      0.052      4.032      0.000       0.109       0.314\n",
            "lnpop           1.0482      0.060     17.511      0.000       0.931       1.166\n",
            "lnunemp_pop     0.0011      0.004      0.251      0.802      -0.007       0.010\n",
            "==============================================================================\n",
            "Omnibus:                       62.222   Durbin-Watson:                   1.023\n",
            "Prob(Omnibus):                  0.000   Jarque-Bera (JB):              155.064\n",
            "Skew:                           0.140   Prob(JB):                     2.13e-34\n",
            "Kurtosis:                       4.441   Cond. No.                     2.29e+03\n",
            "==============================================================================\n",
            "\n",
            "Notes:\n",
            "[1] Standard Errors assume that the covariance matrix of the errors is correctly specified.\n",
            "[2] The condition number is large, 2.29e+03. This might indicate that there are\n",
            "strong multicollinearity or other numerical problems.\n"
          ]
        }
      ]
    },
    {
      "cell_type": "code",
      "source": [
        "# F分布のプロット\n",
        "x = np.linspace(0, 5, 1000)\n",
        "y = stats.f.pdf(x, 5, 100)\n",
        "threshold = stats.f.ppf(0.95, 5, 100)\n",
        "\n",
        "plt.figure(figsize=(8, 5))\n",
        "plt.plot(x, y, color=\"blue\", linestyle=\"solid\", label=\"F distribution (df1=5, df2=100)\")\n",
        "plt.axvline(threshold, color=\"red\", linestyle=\"dashed\", label=\"Critical value (5%)\")\n",
        "plt.xlabel(\"\")\n",
        "plt.ylabel(\"\")\n",
        "plt.legend()\n",
        "plt.show()"
      ],
      "metadata": {
        "colab": {
          "base_uri": "https://localhost:8080/",
          "height": 445
        },
        "id": "S4AanZzrSUCc",
        "outputId": "93946cc9-7897-4e39-dd72-620c6aced923"
      },
      "execution_count": null,
      "outputs": [
        {
          "output_type": "display_data",
          "data": {
            "text/plain": [
              "<Figure size 800x500 with 1 Axes>"
            ],
            "image/png": "[encoded data removed]"
          },
          "metadata": {}
        }
      ]
    }
  ]
}