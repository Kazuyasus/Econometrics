{
  "nbformat": 4,
  "nbformat_minor": 0,
  "metadata": {
    "colab": {
      "provenance": [],
      "authorship_tag": "ABX9TyPsaBbw/NjhpVn5WBIj2jcw",
      "include_colab_link": true
    },
    "kernelspec": {
      "name": "python3",
      "display_name": "Python 3"
    },
    "language_info": {
      "name": "python"
    }
  },
  "cells": [
    {
      "cell_type": "markdown",
      "metadata": {
        "id": "view-in-github",
        "colab_type": "text"
      },
      "source": [
        "<a href=\"https://colab.research.google.com/github/Kazuyasus/Econometrics/blob/main/1st.ipynb\" target=\"_parent\"><img src=\"https://colab.research.google.com/assets/colab-badge.svg\" alt=\"Open In Colab\"/></a>"
      ]
    },
    {
      "cell_type": "code",
      "source": [
        "import pandas as pd\n",
        "import numpy as np\n",
        "\n",
        "# GitHubのdataを利用\n",
        "url = \"https://raw.githubusercontent.com/Kazuyasus/Econometrics/main/resume.csv\"\n",
        "\n",
        "# CSVを読み込む\n",
        "df=pd.read_csv(url)\n",
        "\n",
        "# データの表示\n",
        "df.head()\n"
      ],
      "metadata": {
        "colab": {
          "base_uri": "https://localhost:8080/",
          "height": 206
        },
        "id": "dnRgEqGObqOF",
        "outputId": "9a52c393-0b3b-46fb-94cb-e3637a5d1c8b"
      },
      "execution_count": null,
      "outputs": [
        {
          "output_type": "execute_result",
          "data": {
            "text/plain": [
              "  firstname     sex   race  call\n",
              "0   Allison  female  white     0\n",
              "1   Kristen  female  white     0\n",
              "2   Lakisha  female  black     0\n",
              "3   Latonya  female  black     0\n",
              "4    Carrie  female  white     0"
            ],
            "text/html": [
              "\n",
              "  <div id=\"df-2afe6d49-d1bc-480c-829f-566f0566fce2\" class=\"colab-df-container\">\n",
              "    <div>\n",
              "<style scoped>\n",
              "    .dataframe tbody tr th:only-of-type {\n",
              "        vertical-align: middle;\n",
              "    }\n",
              "\n",
              "    .dataframe tbody tr th {\n",
              "        vertical-align: top;\n",
              "    }\n",
              "\n",
              "    .dataframe thead th {\n",
              "        text-align: right;\n",
              "    }\n",
              "</style>\n",
              "<table border=\"1\" class=\"dataframe\">\n",
              "  <thead>\n",
              "    <tr style=\"text-align: right;\">\n",
              "      <th></th>\n",
              "      <th>firstname</th>\n",
              "      <th>sex</th>\n",
              "      <th>race</th>\n",
              "      <th>call</th>\n",
              "    </tr>\n",
              "  </thead>\n",
              "  <tbody>\n",
              "    <tr>\n",
              "      <th>0</th>\n",
              "      <td>Allison</td>\n",
              "      <td>female</td>\n",
              "      <td>white</td>\n",
              "      <td>0</td>\n",
              "    </tr>\n",
              "    <tr>\n",
              "      <th>1</th>\n",
              "      <td>Kristen</td>\n",
              "      <td>female</td>\n",
              "      <td>white</td>\n",
              "      <td>0</td>\n",
              "    </tr>\n",
              "    <tr>\n",
              "      <th>2</th>\n",
              "      <td>Lakisha</td>\n",
              "      <td>female</td>\n",
              "      <td>black</td>\n",
              "      <td>0</td>\n",
              "    </tr>\n",
              "    <tr>\n",
              "      <th>3</th>\n",
              "      <td>Latonya</td>\n",
              "      <td>female</td>\n",
              "      <td>black</td>\n",
              "      <td>0</td>\n",
              "    </tr>\n",
              "    <tr>\n",
              "      <th>4</th>\n",
              "      <td>Carrie</td>\n",
              "      <td>female</td>\n",
              "      <td>white</td>\n",
              "      <td>0</td>\n",
              "    </tr>\n",
              "  </tbody>\n",
              "</table>\n",
              "</div>\n",
              "    <div class=\"colab-df-buttons\">\n",
              "\n",
              "  <div class=\"colab-df-container\">\n",
              "    <button class=\"colab-df-convert\" onclick=\"convertToInteractive('df-2afe6d49-d1bc-480c-829f-566f0566fce2')\"\n",
              "            title=\"Convert this dataframe to an interactive table.\"\n",
              "            style=\"display:none;\">\n",
              "\n",
              "  <svg xmlns=\"http://www.w3.org/2000/svg\" height=\"24px\" viewBox=\"0 -960 960 960\">\n",
              "    <path d=\"M120-120v-720h720v720H120Zm60-500h600v-160H180v160Zm220 220h160v-160H400v160Zm0 220h160v-160H400v160ZM180-400h160v-160H180v160Zm440 0h160v-160H620v160ZM180-180h160v-160H180v160Zm440 0h160v-160H620v160Z\"/>\n",
              "  </svg>\n",
              "    </button>\n",
              "\n",
              "  <style>\n",
              "    .colab-df-container {\n",
              "      display:flex;\n",
              "      gap: 12px;\n",
              "    }\n",
              "\n",
              "    .colab-df-convert {\n",
              "      background-color: #E8F0FE;\n",
              "      border: none;\n",
              "      border-radius: 50%;\n",
              "      cursor: pointer;\n",
              "      display: none;\n",
              "      fill: #1967D2;\n",
              "      height: 32px;\n",
              "      padding: 0 0 0 0;\n",
              "      width: 32px;\n",
              "    }\n",
              "\n",
              "    .colab-df-convert:hover {\n",
              "      background-color: #E2EBFA;\n",
              "      box-shadow: 0px 1px 2px rgba(60, 64, 67, 0.3), 0px 1px 3px 1px rgba(60, 64, 67, 0.15);\n",
              "      fill: #174EA6;\n",
              "    }\n",
              "\n",
              "    .colab-df-buttons div {\n",
              "      margin-bottom: 4px;\n",
              "    }\n",
              "\n",
              "    [theme=dark] .colab-df-convert {\n",
              "      background-color: #3B4455;\n",
              "      fill: #D2E3FC;\n",
              "    }\n",
              "\n",
              "    [theme=dark] .colab-df-convert:hover {\n",
              "      background-color: #434B5C;\n",
              "      box-shadow: 0px 1px 3px 1px rgba(0, 0, 0, 0.15);\n",
              "      filter: drop-shadow(0px 1px 2px rgba(0, 0, 0, 0.3));\n",
              "      fill: #FFFFFF;\n",
              "    }\n",
              "  </style>\n",
              "\n",
              "    <script>\n",
              "      const buttonEl =\n",
              "        document.querySelector('#df-2afe6d49-d1bc-480c-829f-566f0566fce2 button.colab-df-convert');\n",
              "      buttonEl.style.display =\n",
              "        google.colab.kernel.accessAllowed ? 'block' : 'none';\n",
              "\n",
              "      async function convertToInteractive(key) {\n",
              "        const element = document.querySelector('#df-2afe6d49-d1bc-480c-829f-566f0566fce2');\n",
              "        const dataTable =\n",
              "          await google.colab.kernel.invokeFunction('convertToInteractive',\n",
              "                                                    [key], {});\n",
              "        if (!dataTable) return;\n",
              "\n",
              "        const docLinkHtml = 'Like what you see? Visit the ' +\n",
              "          '<a target=\"_blank\" href=https://colab.research.google.com/notebooks/data_table.ipynb>data table notebook</a>'\n",
              "          + ' to learn more about interactive tables.';\n",
              "        element.innerHTML = '';\n",
              "        dataTable['output_type'] = 'display_data';\n",
              "        await google.colab.output.renderOutput(dataTable, element);\n",
              "        const docLink = document.createElement('div');\n",
              "        docLink.innerHTML = docLinkHtml;\n",
              "        element.appendChild(docLink);\n",
              "      }\n",
              "    </script>\n",
              "  </div>\n",
              "\n",
              "\n",
              "<div id=\"df-c01937cc-e716-4532-97d6-10027dcc37c0\">\n",
              "  <button class=\"colab-df-quickchart\" onclick=\"quickchart('df-c01937cc-e716-4532-97d6-10027dcc37c0')\"\n",
              "            title=\"Suggest charts\"\n",
              "            style=\"display:none;\">\n",
              "\n",
              "<svg xmlns=\"http://www.w3.org/2000/svg\" height=\"24px\"viewBox=\"0 0 24 24\"\n",
              "     width=\"24px\">\n",
              "    <g>\n",
              "        <path d=\"M19 3H5c-1.1 0-2 .9-2 2v14c0 1.1.9 2 2 2h14c1.1 0 2-.9 2-2V5c0-1.1-.9-2-2-2zM9 17H7v-7h2v7zm4 0h-2V7h2v10zm4 0h-2v-4h2v4z\"/>\n",
              "    </g>\n",
              "</svg>\n",
              "  </button>\n",
              "\n",
              "<style>\n",
              "  .colab-df-quickchart {\n",
              "      --bg-color: #E8F0FE;\n",
              "      --fill-color: #1967D2;\n",
              "      --hover-bg-color: #E2EBFA;\n",
              "      --hover-fill-color: #174EA6;\n",
              "      --disabled-fill-color: #AAA;\n",
              "      --disabled-bg-color: #DDD;\n",
              "  }\n",
              "\n",
              "  [theme=dark] .colab-df-quickchart {\n",
              "      --bg-color: #3B4455;\n",
              "      --fill-color: #D2E3FC;\n",
              "      --hover-bg-color: #434B5C;\n",
              "      --hover-fill-color: #FFFFFF;\n",
              "      --disabled-bg-color: #3B4455;\n",
              "      --disabled-fill-color: #666;\n",
              "  }\n",
              "\n",
              "  .colab-df-quickchart {\n",
              "    background-color: var(--bg-color);\n",
              "    border: none;\n",
              "    border-radius: 50%;\n",
              "    cursor: pointer;\n",
              "    display: none;\n",
              "    fill: var(--fill-color);\n",
              "    height: 32px;\n",
              "    padding: 0;\n",
              "    width: 32px;\n",
              "  }\n",
              "\n",
              "  .colab-df-quickchart:hover {\n",
              "    background-color: var(--hover-bg-color);\n",
              "    box-shadow: 0 1px 2px rgba(60, 64, 67, 0.3), 0 1px 3px 1px rgba(60, 64, 67, 0.15);\n",
              "    fill: var(--button-hover-fill-color);\n",
              "  }\n",
              "\n",
              "  .colab-df-quickchart-complete:disabled,\n",
              "  .colab-df-quickchart-complete:disabled:hover {\n",
              "    background-color: var(--disabled-bg-color);\n",
              "    fill: var(--disabled-fill-color);\n",
              "    box-shadow: none;\n",
              "  }\n",
              "\n",
              "  .colab-df-spinner {\n",
              "    border: 2px solid var(--fill-color);\n",
              "    border-color: transparent;\n",
              "    border-bottom-color: var(--fill-color);\n",
              "    animation:\n",
              "      spin 1s steps(1) infinite;\n",
              "  }\n",
              "\n",
              "  @keyframes spin {\n",
              "    0% {\n",
              "      border-color: transparent;\n",
              "      border-bottom-color: var(--fill-color);\n",
              "      border-left-color: var(--fill-color);\n",
              "    }\n",
              "    20% {\n",
              "      border-color: transparent;\n",
              "      border-left-color: var(--fill-color);\n",
              "      border-top-color: var(--fill-color);\n",
              "    }\n",
              "    30% {\n",
              "      border-color: transparent;\n",
              "      border-left-color: var(--fill-color);\n",
              "      border-top-color: var(--fill-color);\n",
              "      border-right-color: var(--fill-color);\n",
              "    }\n",
              "    40% {\n",
              "      border-color: transparent;\n",
              "      border-right-color: var(--fill-color);\n",
              "      border-top-color: var(--fill-color);\n",
              "    }\n",
              "    60% {\n",
              "      border-color: transparent;\n",
              "      border-right-color: var(--fill-color);\n",
              "    }\n",
              "    80% {\n",
              "      border-color: transparent;\n",
              "      border-right-color: var(--fill-color);\n",
              "      border-bottom-color: var(--fill-color);\n",
              "    }\n",
              "    90% {\n",
              "      border-color: transparent;\n",
              "      border-bottom-color: var(--fill-color);\n",
              "    }\n",
              "  }\n",
              "</style>\n",
              "\n",
              "  <script>\n",
              "    async function quickchart(key) {\n",
              "      const quickchartButtonEl =\n",
              "        document.querySelector('#' + key + ' button');\n",
              "      quickchartButtonEl.disabled = true;  // To prevent multiple clicks.\n",
              "      quickchartButtonEl.classList.add('colab-df-spinner');\n",
              "      try {\n",
              "        const charts = await google.colab.kernel.invokeFunction(\n",
              "            'suggestCharts', [key], {});\n",
              "      } catch (error) {\n",
              "        console.error('Error during call to suggestCharts:', error);\n",
              "      }\n",
              "      quickchartButtonEl.classList.remove('colab-df-spinner');\n",
              "      quickchartButtonEl.classList.add('colab-df-quickchart-complete');\n",
              "    }\n",
              "    (() => {\n",
              "      let quickchartButtonEl =\n",
              "        document.querySelector('#df-c01937cc-e716-4532-97d6-10027dcc37c0 button');\n",
              "      quickchartButtonEl.style.display =\n",
              "        google.colab.kernel.accessAllowed ? 'block' : 'none';\n",
              "    })();\n",
              "  </script>\n",
              "</div>\n",
              "\n",
              "    </div>\n",
              "  </div>\n"
            ],
            "application/vnd.google.colaboratory.intrinsic+json": {
              "type": "dataframe",
              "variable_name": "df",
              "summary": "{\n  \"name\": \"df\",\n  \"rows\": 4870,\n  \"fields\": [\n    {\n      \"column\": \"firstname\",\n      \"properties\": {\n        \"dtype\": \"category\",\n        \"num_unique_values\": 36,\n        \"samples\": [\n          \"Kareem\",\n          \"Leroy\",\n          \"Jamal\"\n        ],\n        \"semantic_type\": \"\",\n        \"description\": \"\"\n      }\n    },\n    {\n      \"column\": \"sex\",\n      \"properties\": {\n        \"dtype\": \"category\",\n        \"num_unique_values\": 2,\n        \"samples\": [\n          \"male\",\n          \"female\"\n        ],\n        \"semantic_type\": \"\",\n        \"description\": \"\"\n      }\n    },\n    {\n      \"column\": \"race\",\n      \"properties\": {\n        \"dtype\": \"category\",\n        \"num_unique_values\": 2,\n        \"samples\": [\n          \"black\",\n          \"white\"\n        ],\n        \"semantic_type\": \"\",\n        \"description\": \"\"\n      }\n    },\n    {\n      \"column\": \"call\",\n      \"properties\": {\n        \"dtype\": \"number\",\n        \"std\": 0,\n        \"min\": 0,\n        \"max\": 1,\n        \"num_unique_values\": 2,\n        \"samples\": [\n          1,\n          0\n        ],\n        \"semantic_type\": \"\",\n        \"description\": \"\"\n      }\n    }\n  ]\n}"
            }
          },
          "metadata": {},
          "execution_count": 1
        }
      ]
    },
    {
      "cell_type": "markdown",
      "source": [],
      "metadata": {
        "id": "ucg-PSokY0VS"
      }
    },
    {
      "cell_type": "code",
      "source": [
        "\n",
        "# 観察数と説明変数の数を表示\n",
        "print(df.shape)  # (行数, 列数)\n"
      ],
      "metadata": {
        "colab": {
          "base_uri": "https://localhost:8080/"
        },
        "id": "XviSMVc2Gw0K",
        "outputId": "6b4a4abc-ffee-42dc-c0ec-41674bffc0aa"
      },
      "execution_count": null,
      "outputs": [
        {
          "output_type": "stream",
          "name": "stdout",
          "text": [
            "(4870, 4)\n"
          ]
        }
      ]
    },
    {
      "cell_type": "code",
      "source": [
        "# 最初の数行を表示\n",
        "print(df.head())\n"
      ],
      "metadata": {
        "colab": {
          "base_uri": "https://localhost:8080/"
        },
        "id": "jsAi5_zDG2Zn",
        "outputId": "c83b3a0e-4ce2-4fa0-9cc1-5ade30319b83"
      },
      "execution_count": null,
      "outputs": [
        {
          "output_type": "stream",
          "name": "stdout",
          "text": [
            "  firstname     sex   race  call\n",
            "0   Allison  female  white     0\n",
            "1   Kristen  female  white     0\n",
            "2   Lakisha  female  black     0\n",
            "3   Latonya  female  black     0\n",
            "4    Carrie  female  white     0\n"
          ]
        }
      ]
    },
    {
      "cell_type": "code",
      "source": [
        "# 記述統計量を表示\n",
        "print(df.describe(include='all'))\n",
        "#include='all' → 記述統計量（平均値、標準偏差、最小値、最大値など）を計算する際に、すべての列を対象に含ませる."
      ],
      "metadata": {
        "colab": {
          "base_uri": "https://localhost:8080/"
        },
        "id": "Qj3vkbREG80a",
        "outputId": "0bdf8f64-f6f6-47cd-cc7f-cbad2b509fed"
      },
      "execution_count": null,
      "outputs": [
        {
          "output_type": "stream",
          "name": "stdout",
          "text": [
            "       firstname     sex   race         call\n",
            "count       4870    4870   4870  4870.000000\n",
            "unique        36       2      2          NaN\n",
            "top       Tamika  female  white          NaN\n",
            "freq         256    3746   2435          NaN\n",
            "mean         NaN     NaN    NaN     0.080493\n",
            "std          NaN     NaN    NaN     0.272083\n",
            "min          NaN     NaN    NaN     0.000000\n",
            "25%          NaN     NaN    NaN     0.000000\n",
            "50%          NaN     NaN    NaN     0.000000\n",
            "75%          NaN     NaN    NaN     0.000000\n",
            "max          NaN     NaN    NaN     1.000000\n"
          ]
        }
      ]
    },
    {
      "cell_type": "code",
      "source": [
        "# 人種別×連絡の有無を示した分割表を作成\n",
        "race_call_tab = pd.crosstab(df[\"race\"], df[\"call\"])\n",
        "print(race_call_tab)"
      ],
      "metadata": {
        "colab": {
          "base_uri": "https://localhost:8080/"
        },
        "id": "REGeIC7IG_h9",
        "outputId": "81b5dadc-84a7-4a51-d9fa-a79cfe5adce3"
      },
      "execution_count": null,
      "outputs": [
        {
          "output_type": "stream",
          "name": "stdout",
          "text": [
            "call      0    1\n",
            "race            \n",
            "black  2278  157\n",
            "white  2200  235\n"
          ]
        }
      ]
    },
    {
      "cell_type": "code",
      "source": [
        "# 各行、各列に合計値を追加\n",
        "total = race_call_tab.copy()\n",
        "#行「Total」を新しく追加し、列ごとの合計をその行に設定\n",
        "total.loc[\"Total\"] = total.sum()\n",
        "#新しい列「Total」を追加し、行ごとの合計をその列に設定\n",
        "total[\"Total\"] = total.sum(axis=1)\n",
        "print(total)\n"
      ],
      "metadata": {
        "colab": {
          "base_uri": "https://localhost:8080/"
        },
        "id": "eL4SdywVHFJM",
        "outputId": "c5e33c23-7bac-4c89-db7a-e3c9551c6489"
      },
      "execution_count": null,
      "outputs": [
        {
          "output_type": "stream",
          "name": "stdout",
          "text": [
            "call      0    1  Total\n",
            "race                   \n",
            "black  2278  157   2435\n",
            "white  2200  235   2435\n",
            "Total  4478  392   4870\n"
          ]
        }
      ]
    },
    {
      "cell_type": "code",
      "source": [
        "\n",
        "# 審査通過率 (全体の審査通過数をサンプルサイズで割る)  392÷4870\n",
        "pass_rate = race_call_tab.iloc[:, 1].sum() / len(df)\n",
        "print(pass_rate)\n",
        "#　[:, 1] の解釈\n",
        "#:（コロン） → 全ての行を選択する。\n",
        "# 1 → 列のインデックス番号 1（2番目の列）を選択する。\n",
        "#　len() は、オブジェクトの長さ（サイズ）→　サンプルサイズ\n"
      ],
      "metadata": {
        "colab": {
          "base_uri": "https://localhost:8080/"
        },
        "id": "uucLt3ulHH4u",
        "outputId": "997ce685-207a-4a22-cf60-9558d86c6e91"
      },
      "execution_count": null,
      "outputs": [
        {
          "output_type": "stream",
          "name": "stdout",
          "text": [
            "0.08049281314168377\n"
          ]
        }
      ]
    },
    {
      "cell_type": "code",
      "source": [
        "# 人種ごとの審査通過率\n",
        "black_pass_rate = race_call_tab.iloc[0, 1] / race_call_tab.iloc[0, :].sum()  # 1行2列目 (157)   ÷  1行目の合計値 (2435)\n",
        "white_pass_rate = race_call_tab.iloc[1, 1] / race_call_tab.iloc[1, :].sum()  # 2行2列目 (235)   ÷  2行目の合計値 (2435)\n",
        "\n",
        "print(\"Black Pass Rate:\", black_pass_rate)\n",
        "print(\"White Pass Rate:\", white_pass_rate)"
      ],
      "metadata": {
        "colab": {
          "base_uri": "https://localhost:8080/"
        },
        "id": "U4S-1atfHJJt",
        "outputId": "91736a34-94bb-4a93-c78a-1341513698fa"
      },
      "execution_count": null,
      "outputs": [
        {
          "output_type": "stream",
          "name": "stdout",
          "text": [
            "Black Pass Rate: 0.06447638603696099\n",
            "White Pass Rate: 0.09650924024640657\n"
          ]
        }
      ]
    },
    {
      "cell_type": "code",
      "source": [
        "# 人種×性別で部分集合を作成\n",
        "dfBf = df[(df[\"race\"] == \"black\") & (df[\"sex\"] == \"female\")] # 黒人　かつ　女性\n",
        "dfBm = df[(df[\"race\"] == \"black\") & (df[\"sex\"] == \"male\")] # 黒人　かつ　男性\n",
        "dfWf = df[(df[\"race\"] == \"white\") & (df[\"sex\"] == \"female\")] # 白人　かつ　女性\n",
        "dfWm = df[(df[\"race\"] == \"white\") & (df[\"sex\"] == \"male\")] # 白人　かつ　男性\n",
        "\n",
        "# 人種格差の検証（女性同士）\n",
        "diff_women = dfWf[\"call\"].mean() - dfBf[\"call\"].mean()\n",
        "print(\"Difference in call rates (White Women - Black Women):\", diff_women)"
      ],
      "metadata": {
        "colab": {
          "base_uri": "https://localhost:8080/"
        },
        "id": "n5SikIWTHPVB",
        "outputId": "ef0f83bc-0d29-494d-c811-a1ab211c2a2e"
      },
      "execution_count": null,
      "outputs": [
        {
          "output_type": "stream",
          "name": "stdout",
          "text": [
            "Difference in call rates (White Women - Black Women): 0.0326468944913853\n"
          ]
        }
      ]
    }
  ]
}