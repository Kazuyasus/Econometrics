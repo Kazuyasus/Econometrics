{
  "nbformat": 4,
  "nbformat_minor": 0,
  "metadata": {
    "colab": {
      "provenance": [],
      "authorship_tag": "ABX9TyMNFktAnshp5pUyuZyc1KqH",
      "include_colab_link": true
    },
    "kernelspec": {
      "name": "python3",
      "display_name": "Python 3"
    },
    "language_info": {
      "name": "python"
    }
  },
  "cells": [
    {
      "cell_type": "markdown",
      "metadata": {
        "id": "view-in-github",
        "colab_type": "text"
      },
      "source": [
        "<a href=\"https://colab.research.google.com/github/Kazuyasus/Econometrics/blob/main/11th.ipynb\" target=\"_parent\"><img src=\"https://colab.research.google.com/assets/colab-badge.svg\" alt=\"Open In Colab\"/></a>"
      ]
    },
    {
      "cell_type": "code",
      "execution_count": null,
      "metadata": {
        "colab": {
          "base_uri": "https://localhost:8080/"
        },
        "id": "M-nSQRHOJsS9",
        "outputId": "54f95165-fd88-4b82-bf21-dffafee78b62"
      },
      "outputs": [
        {
          "output_type": "stream",
          "name": "stdout",
          "text": [
            "Requirement already satisfied: pip in /usr/local/lib/python3.11/dist-packages (24.1.2)\n",
            "Collecting pip\n",
            "  Downloading pip-25.0.1-py3-none-any.whl.metadata (3.7 kB)\n",
            "Downloading pip-25.0.1-py3-none-any.whl (1.8 MB)\n",
            "\u001b[2K   \u001b[90m━━━━━━━━━━━━━━━━━━━━━━━━━━━━━━━━━━━━━━━━\u001b[0m \u001b[32m1.8/1.8 MB\u001b[0m \u001b[31m16.9 MB/s\u001b[0m eta \u001b[36m0:00:00\u001b[0m\n",
            "\u001b[?25hInstalling collected packages: pip\n",
            "  Attempting uninstall: pip\n",
            "    Found existing installation: pip 24.1.2\n",
            "    Uninstalling pip-24.1.2:\n",
            "      Successfully uninstalled pip-24.1.2\n",
            "Successfully installed pip-25.0.1\n",
            "Collecting linearmodels\n",
            "  Downloading linearmodels-6.1-cp311-cp311-manylinux_2_17_x86_64.manylinux2014_x86_64.whl.metadata (7.9 kB)\n",
            "Requirement already satisfied: numpy<3,>=1.22.3 in /usr/local/lib/python3.11/dist-packages (from linearmodels) (2.0.2)\n",
            "Requirement already satisfied: pandas>=1.4.0 in /usr/local/lib/python3.11/dist-packages (from linearmodels) (2.2.2)\n",
            "Requirement already satisfied: scipy>=1.8.0 in /usr/local/lib/python3.11/dist-packages (from linearmodels) (1.14.1)\n",
            "Requirement already satisfied: statsmodels>=0.13.0 in /usr/local/lib/python3.11/dist-packages (from linearmodels) (0.14.4)\n",
            "Collecting mypy-extensions>=0.4 (from linearmodels)\n",
            "  Downloading mypy_extensions-1.0.0-py3-none-any.whl.metadata (1.1 kB)\n",
            "Requirement already satisfied: Cython>=3.0.10 in /usr/local/lib/python3.11/dist-packages (from linearmodels) (3.0.12)\n",
            "Collecting pyhdfe>=0.1 (from linearmodels)\n",
            "  Downloading pyhdfe-0.2.0-py3-none-any.whl.metadata (4.0 kB)\n",
            "Collecting formulaic>=1.0.0 (from linearmodels)\n",
            "  Downloading formulaic-1.1.1-py3-none-any.whl.metadata (6.9 kB)\n",
            "Collecting setuptools-scm<9.0.0,>=8.0.0 (from setuptools-scm[toml]<9.0.0,>=8.0.0->linearmodels)\n",
            "  Downloading setuptools_scm-8.2.0-py3-none-any.whl.metadata (6.8 kB)\n",
            "Collecting interface-meta>=1.2.0 (from formulaic>=1.0.0->linearmodels)\n",
            "  Downloading interface_meta-1.3.0-py3-none-any.whl.metadata (6.7 kB)\n",
            "Requirement already satisfied: typing-extensions>=4.2.0 in /usr/local/lib/python3.11/dist-packages (from formulaic>=1.0.0->linearmodels) (4.12.2)\n",
            "Requirement already satisfied: wrapt>=1.0 in /usr/local/lib/python3.11/dist-packages (from formulaic>=1.0.0->linearmodels) (1.17.2)\n",
            "Requirement already satisfied: python-dateutil>=2.8.2 in /usr/local/lib/python3.11/dist-packages (from pandas>=1.4.0->linearmodels) (2.8.2)\n",
            "Requirement already satisfied: pytz>=2020.1 in /usr/local/lib/python3.11/dist-packages (from pandas>=1.4.0->linearmodels) (2025.1)\n",
            "Requirement already satisfied: tzdata>=2022.7 in /usr/local/lib/python3.11/dist-packages (from pandas>=1.4.0->linearmodels) (2025.1)\n",
            "Requirement already satisfied: packaging>=20 in /usr/local/lib/python3.11/dist-packages (from setuptools-scm<9.0.0,>=8.0.0->setuptools-scm[toml]<9.0.0,>=8.0.0->linearmodels) (24.2)\n",
            "Requirement already satisfied: setuptools>=61 in /usr/local/lib/python3.11/dist-packages (from setuptools-scm<9.0.0,>=8.0.0->setuptools-scm[toml]<9.0.0,>=8.0.0->linearmodels) (75.1.0)\n",
            "Requirement already satisfied: patsy>=0.5.6 in /usr/local/lib/python3.11/dist-packages (from statsmodels>=0.13.0->linearmodels) (1.0.1)\n",
            "Requirement already satisfied: six>=1.5 in /usr/local/lib/python3.11/dist-packages (from python-dateutil>=2.8.2->pandas>=1.4.0->linearmodels) (1.17.0)\n",
            "Downloading linearmodels-6.1-cp311-cp311-manylinux_2_17_x86_64.manylinux2014_x86_64.whl (1.7 MB)\n",
            "\u001b[2K   \u001b[90m━━━━━━━━━━━━━━━━━━━━━━━━━━━━━━━━━━━━━━━━\u001b[0m \u001b[32m1.7/1.7 MB\u001b[0m \u001b[31m30.2 MB/s\u001b[0m eta \u001b[36m0:00:00\u001b[0m\n",
            "\u001b[?25hDownloading formulaic-1.1.1-py3-none-any.whl (115 kB)\n",
            "Downloading mypy_extensions-1.0.0-py3-none-any.whl (4.7 kB)\n",
            "Downloading pyhdfe-0.2.0-py3-none-any.whl (19 kB)\n",
            "Downloading setuptools_scm-8.2.0-py3-none-any.whl (43 kB)\n",
            "Downloading interface_meta-1.3.0-py3-none-any.whl (14 kB)\n",
            "Installing collected packages: setuptools-scm, mypy-extensions, interface-meta, pyhdfe, formulaic, linearmodels\n",
            "Successfully installed formulaic-1.1.1 interface-meta-1.3.0 linearmodels-6.1 mypy-extensions-1.0.0 pyhdfe-0.2.0 setuptools-scm-8.2.0\n"
          ]
        }
      ],
      "source": [
        "import pandas as pd\n",
        "import numpy as np\n",
        "import statsmodels.api as sm\n",
        "import statsmodels.formula.api as smf\n",
        "!pip install --upgrade pip\n",
        "!pip install linearmodels\n",
        "from linearmodels.panel import PanelOLS, FirstDifferenceOLS, RandomEffects\n",
        "import matplotlib.pyplot as plt\n",
        "import seaborn as sns\n",
        "import scipy.stats as stats\n",
        "\n"
      ]
    },
    {
      "cell_type": "code",
      "source": [
        "# GitHubのdataを利用\n",
        "url = \"https://raw.githubusercontent.com/Kazuyasus/Econometrics/main/cig.csv\"\n",
        "\n",
        "# CSVを読み込む\n",
        "cig = pd.read_csv(url)\n",
        "\n",
        "# パネルデータの設定\n",
        "cig = cig.set_index([\"id\", \"t\"])\n",
        "\n",
        "cig.head()\n",
        "\n"
      ],
      "metadata": {
        "colab": {
          "base_uri": "https://localhost:8080/",
          "height": 237
        },
        "id": "CzDKBOXfL8FU",
        "outputId": "d01ccfb8-6c4a-4340-c0a6-b512c2b95134"
      },
      "execution_count": null,
      "outputs": [
        {
          "output_type": "execute_result",
          "data": {
            "text/plain": [
              "      income  life   ncig\n",
              "id t                     \n",
              "1  1   300.0     2   0.00\n",
              "   2   300.0     2   2.75\n",
              "2  1   300.0     2   7.75\n",
              "   2   300.0     3  10.50\n",
              "3  1    50.0     4   0.00"
            ],
            "text/html": [
              "\n",
              "  <div id=\"df-e5da8e9f-20c7-4679-8d20-9fdb4616a97e\" class=\"colab-df-container\">\n",
              "    <div>\n",
              "<style scoped>\n",
              "    .dataframe tbody tr th:only-of-type {\n",
              "        vertical-align: middle;\n",
              "    }\n",
              "\n",
              "    .dataframe tbody tr th {\n",
              "        vertical-align: top;\n",
              "    }\n",
              "\n",
              "    .dataframe thead th {\n",
              "        text-align: right;\n",
              "    }\n",
              "</style>\n",
              "<table border=\"1\" class=\"dataframe\">\n",
              "  <thead>\n",
              "    <tr style=\"text-align: right;\">\n",
              "      <th></th>\n",
              "      <th></th>\n",
              "      <th>income</th>\n",
              "      <th>life</th>\n",
              "      <th>ncig</th>\n",
              "    </tr>\n",
              "    <tr>\n",
              "      <th>id</th>\n",
              "      <th>t</th>\n",
              "      <th></th>\n",
              "      <th></th>\n",
              "      <th></th>\n",
              "    </tr>\n",
              "  </thead>\n",
              "  <tbody>\n",
              "    <tr>\n",
              "      <th rowspan=\"2\" valign=\"top\">1</th>\n",
              "      <th>1</th>\n",
              "      <td>300.0</td>\n",
              "      <td>2</td>\n",
              "      <td>0.00</td>\n",
              "    </tr>\n",
              "    <tr>\n",
              "      <th>2</th>\n",
              "      <td>300.0</td>\n",
              "      <td>2</td>\n",
              "      <td>2.75</td>\n",
              "    </tr>\n",
              "    <tr>\n",
              "      <th rowspan=\"2\" valign=\"top\">2</th>\n",
              "      <th>1</th>\n",
              "      <td>300.0</td>\n",
              "      <td>2</td>\n",
              "      <td>7.75</td>\n",
              "    </tr>\n",
              "    <tr>\n",
              "      <th>2</th>\n",
              "      <td>300.0</td>\n",
              "      <td>3</td>\n",
              "      <td>10.50</td>\n",
              "    </tr>\n",
              "    <tr>\n",
              "      <th>3</th>\n",
              "      <th>1</th>\n",
              "      <td>50.0</td>\n",
              "      <td>4</td>\n",
              "      <td>0.00</td>\n",
              "    </tr>\n",
              "  </tbody>\n",
              "</table>\n",
              "</div>\n",
              "    <div class=\"colab-df-buttons\">\n",
              "\n",
              "  <div class=\"colab-df-container\">\n",
              "    <button class=\"colab-df-convert\" onclick=\"convertToInteractive('df-e5da8e9f-20c7-4679-8d20-9fdb4616a97e')\"\n",
              "            title=\"Convert this dataframe to an interactive table.\"\n",
              "            style=\"display:none;\">\n",
              "\n",
              "  <svg xmlns=\"http://www.w3.org/2000/svg\" height=\"24px\" viewBox=\"0 -960 960 960\">\n",
              "    <path d=\"M120-120v-720h720v720H120Zm60-500h600v-160H180v160Zm220 220h160v-160H400v160Zm0 220h160v-160H400v160ZM180-400h160v-160H180v160Zm440 0h160v-160H620v160ZM180-180h160v-160H180v160Zm440 0h160v-160H620v160Z\"/>\n",
              "  </svg>\n",
              "    </button>\n",
              "\n",
              "  <style>\n",
              "    .colab-df-container {\n",
              "      display:flex;\n",
              "      gap: 12px;\n",
              "    }\n",
              "\n",
              "    .colab-df-convert {\n",
              "      background-color: #E8F0FE;\n",
              "      border: none;\n",
              "      border-radius: 50%;\n",
              "      cursor: pointer;\n",
              "      display: none;\n",
              "      fill: #1967D2;\n",
              "      height: 32px;\n",
              "      padding: 0 0 0 0;\n",
              "      width: 32px;\n",
              "    }\n",
              "\n",
              "    .colab-df-convert:hover {\n",
              "      background-color: #E2EBFA;\n",
              "      box-shadow: 0px 1px 2px rgba(60, 64, 67, 0.3), 0px 1px 3px 1px rgba(60, 64, 67, 0.15);\n",
              "      fill: #174EA6;\n",
              "    }\n",
              "\n",
              "    .colab-df-buttons div {\n",
              "      margin-bottom: 4px;\n",
              "    }\n",
              "\n",
              "    [theme=dark] .colab-df-convert {\n",
              "      background-color: #3B4455;\n",
              "      fill: #D2E3FC;\n",
              "    }\n",
              "\n",
              "    [theme=dark] .colab-df-convert:hover {\n",
              "      background-color: #434B5C;\n",
              "      box-shadow: 0px 1px 3px 1px rgba(0, 0, 0, 0.15);\n",
              "      filter: drop-shadow(0px 1px 2px rgba(0, 0, 0, 0.3));\n",
              "      fill: #FFFFFF;\n",
              "    }\n",
              "  </style>\n",
              "\n",
              "    <script>\n",
              "      const buttonEl =\n",
              "        document.querySelector('#df-e5da8e9f-20c7-4679-8d20-9fdb4616a97e button.colab-df-convert');\n",
              "      buttonEl.style.display =\n",
              "        google.colab.kernel.accessAllowed ? 'block' : 'none';\n",
              "\n",
              "      async function convertToInteractive(key) {\n",
              "        const element = document.querySelector('#df-e5da8e9f-20c7-4679-8d20-9fdb4616a97e');\n",
              "        const dataTable =\n",
              "          await google.colab.kernel.invokeFunction('convertToInteractive',\n",
              "                                                    [key], {});\n",
              "        if (!dataTable) return;\n",
              "\n",
              "        const docLinkHtml = 'Like what you see? Visit the ' +\n",
              "          '<a target=\"_blank\" href=https://colab.research.google.com/notebooks/data_table.ipynb>data table notebook</a>'\n",
              "          + ' to learn more about interactive tables.';\n",
              "        element.innerHTML = '';\n",
              "        dataTable['output_type'] = 'display_data';\n",
              "        await google.colab.output.renderOutput(dataTable, element);\n",
              "        const docLink = document.createElement('div');\n",
              "        docLink.innerHTML = docLinkHtml;\n",
              "        element.appendChild(docLink);\n",
              "      }\n",
              "    </script>\n",
              "  </div>\n",
              "\n",
              "\n",
              "<div id=\"df-88fda62d-e7fc-4f8e-a16b-3791cd4ed024\">\n",
              "  <button class=\"colab-df-quickchart\" onclick=\"quickchart('df-88fda62d-e7fc-4f8e-a16b-3791cd4ed024')\"\n",
              "            title=\"Suggest charts\"\n",
              "            style=\"display:none;\">\n",
              "\n",
              "<svg xmlns=\"http://www.w3.org/2000/svg\" height=\"24px\"viewBox=\"0 0 24 24\"\n",
              "     width=\"24px\">\n",
              "    <g>\n",
              "        <path d=\"M19 3H5c-1.1 0-2 .9-2 2v14c0 1.1.9 2 2 2h14c1.1 0 2-.9 2-2V5c0-1.1-.9-2-2-2zM9 17H7v-7h2v7zm4 0h-2V7h2v10zm4 0h-2v-4h2v4z\"/>\n",
              "    </g>\n",
              "</svg>\n",
              "  </button>\n",
              "\n",
              "<style>\n",
              "  .colab-df-quickchart {\n",
              "      --bg-color: #E8F0FE;\n",
              "      --fill-color: #1967D2;\n",
              "      --hover-bg-color: #E2EBFA;\n",
              "      --hover-fill-color: #174EA6;\n",
              "      --disabled-fill-color: #AAA;\n",
              "      --disabled-bg-color: #DDD;\n",
              "  }\n",
              "\n",
              "  [theme=dark] .colab-df-quickchart {\n",
              "      --bg-color: #3B4455;\n",
              "      --fill-color: #D2E3FC;\n",
              "      --hover-bg-color: #434B5C;\n",
              "      --hover-fill-color: #FFFFFF;\n",
              "      --disabled-bg-color: #3B4455;\n",
              "      --disabled-fill-color: #666;\n",
              "  }\n",
              "\n",
              "  .colab-df-quickchart {\n",
              "    background-color: var(--bg-color);\n",
              "    border: none;\n",
              "    border-radius: 50%;\n",
              "    cursor: pointer;\n",
              "    display: none;\n",
              "    fill: var(--fill-color);\n",
              "    height: 32px;\n",
              "    padding: 0;\n",
              "    width: 32px;\n",
              "  }\n",
              "\n",
              "  .colab-df-quickchart:hover {\n",
              "    background-color: var(--hover-bg-color);\n",
              "    box-shadow: 0 1px 2px rgba(60, 64, 67, 0.3), 0 1px 3px 1px rgba(60, 64, 67, 0.15);\n",
              "    fill: var(--button-hover-fill-color);\n",
              "  }\n",
              "\n",
              "  .colab-df-quickchart-complete:disabled,\n",
              "  .colab-df-quickchart-complete:disabled:hover {\n",
              "    background-color: var(--disabled-bg-color);\n",
              "    fill: var(--disabled-fill-color);\n",
              "    box-shadow: none;\n",
              "  }\n",
              "\n",
              "  .colab-df-spinner {\n",
              "    border: 2px solid var(--fill-color);\n",
              "    border-color: transparent;\n",
              "    border-bottom-color: var(--fill-color);\n",
              "    animation:\n",
              "      spin 1s steps(1) infinite;\n",
              "  }\n",
              "\n",
              "  @keyframes spin {\n",
              "    0% {\n",
              "      border-color: transparent;\n",
              "      border-bottom-color: var(--fill-color);\n",
              "      border-left-color: var(--fill-color);\n",
              "    }\n",
              "    20% {\n",
              "      border-color: transparent;\n",
              "      border-left-color: var(--fill-color);\n",
              "      border-top-color: var(--fill-color);\n",
              "    }\n",
              "    30% {\n",
              "      border-color: transparent;\n",
              "      border-left-color: var(--fill-color);\n",
              "      border-top-color: var(--fill-color);\n",
              "      border-right-color: var(--fill-color);\n",
              "    }\n",
              "    40% {\n",
              "      border-color: transparent;\n",
              "      border-right-color: var(--fill-color);\n",
              "      border-top-color: var(--fill-color);\n",
              "    }\n",
              "    60% {\n",
              "      border-color: transparent;\n",
              "      border-right-color: var(--fill-color);\n",
              "    }\n",
              "    80% {\n",
              "      border-color: transparent;\n",
              "      border-right-color: var(--fill-color);\n",
              "      border-bottom-color: var(--fill-color);\n",
              "    }\n",
              "    90% {\n",
              "      border-color: transparent;\n",
              "      border-bottom-color: var(--fill-color);\n",
              "    }\n",
              "  }\n",
              "</style>\n",
              "\n",
              "  <script>\n",
              "    async function quickchart(key) {\n",
              "      const quickchartButtonEl =\n",
              "        document.querySelector('#' + key + ' button');\n",
              "      quickchartButtonEl.disabled = true;  // To prevent multiple clicks.\n",
              "      quickchartButtonEl.classList.add('colab-df-spinner');\n",
              "      try {\n",
              "        const charts = await google.colab.kernel.invokeFunction(\n",
              "            'suggestCharts', [key], {});\n",
              "      } catch (error) {\n",
              "        console.error('Error during call to suggestCharts:', error);\n",
              "      }\n",
              "      quickchartButtonEl.classList.remove('colab-df-spinner');\n",
              "      quickchartButtonEl.classList.add('colab-df-quickchart-complete');\n",
              "    }\n",
              "    (() => {\n",
              "      let quickchartButtonEl =\n",
              "        document.querySelector('#df-88fda62d-e7fc-4f8e-a16b-3791cd4ed024 button');\n",
              "      quickchartButtonEl.style.display =\n",
              "        google.colab.kernel.accessAllowed ? 'block' : 'none';\n",
              "    })();\n",
              "  </script>\n",
              "</div>\n",
              "\n",
              "    </div>\n",
              "  </div>\n"
            ],
            "application/vnd.google.colaboratory.intrinsic+json": {
              "type": "dataframe",
              "variable_name": "cig",
              "summary": "{\n  \"name\": \"cig\",\n  \"rows\": 6044,\n  \"fields\": [\n    {\n      \"column\": \"income\",\n      \"properties\": {\n        \"dtype\": \"number\",\n        \"std\": 238.44071259123083,\n        \"min\": 0.0,\n        \"max\": 2250.0,\n        \"num_unique_values\": 13,\n        \"samples\": [\n          2250.0,\n          100.0,\n          300.0\n        ],\n        \"semantic_type\": \"\",\n        \"description\": \"\"\n      }\n    },\n    {\n      \"column\": \"life\",\n      \"properties\": {\n        \"dtype\": \"number\",\n        \"std\": 0,\n        \"min\": 0,\n        \"max\": 4,\n        \"num_unique_values\": 5,\n        \"samples\": [\n          3,\n          1,\n          4\n        ],\n        \"semantic_type\": \"\",\n        \"description\": \"\"\n      }\n    },\n    {\n      \"column\": \"ncig\",\n      \"properties\": {\n        \"dtype\": \"number\",\n        \"std\": 5.1605094823549,\n        \"min\": 0.0,\n        \"max\": 25.5,\n        \"num_unique_values\": 9,\n        \"samples\": [\n          15.5,\n          2.75,\n          20.5\n        ],\n        \"semantic_type\": \"\",\n        \"description\": \"\"\n      }\n    }\n  ]\n}"
            }
          },
          "metadata": {},
          "execution_count": 3
        }
      ]
    },
    {
      "cell_type": "code",
      "source": [
        "# 平均値と95%信頼区間のプロット (2時点のincomeの変化)\n",
        "sns.pointplot(x='t', y='income', data=cig, ci=95)\n",
        "plt.title(\"Income over time\")\n",
        "plt.show()\n"
      ],
      "metadata": {
        "colab": {
          "base_uri": "https://localhost:8080/",
          "height": 566
        },
        "id": "DlYnAMHIMM02",
        "outputId": "8af87d99-706e-4549-dfa0-1dd9c65d44ae"
      },
      "execution_count": null,
      "outputs": [
        {
          "output_type": "stream",
          "name": "stderr",
          "text": [
            "<ipython-input-4-bf547178d214>:2: FutureWarning: \n",
            "\n",
            "The `ci` parameter is deprecated. Use `errorbar=('ci', 95)` for the same effect.\n",
            "\n",
            "  sns.pointplot(x='t', y='income', data=cig, ci=95)\n"
          ]
        },
        {
          "output_type": "display_data",
          "data": {
            "text/plain": [
              "<Figure size 640x480 with 1 Axes>"
            ],
            "image/png": "[encoded data removed]"
          },
          "metadata": {}
        }
      ]
    },
    {
      "cell_type": "code",
      "source": [
        "# 平均値と95%信頼区間のプロット (2時点のNcigの変化)\n",
        "sns.pointplot(x='t', y='ncig', data=cig, ci=95)\n",
        "plt.title(\"Cigarette consumption over time\")\n",
        "plt.show()\n"
      ],
      "metadata": {
        "colab": {
          "base_uri": "https://localhost:8080/",
          "height": 566
        },
        "id": "-53CN8GIMrvL",
        "outputId": "54626f64-f2ef-4ee0-c304-311235760c38"
      },
      "execution_count": null,
      "outputs": [
        {
          "output_type": "stream",
          "name": "stderr",
          "text": [
            "<ipython-input-5-67b2c10d7975>:2: FutureWarning: \n",
            "\n",
            "The `ci` parameter is deprecated. Use `errorbar=('ci', 95)` for the same effect.\n",
            "\n",
            "  sns.pointplot(x='t', y='ncig', data=cig, ci=95)\n"
          ]
        },
        {
          "output_type": "display_data",
          "data": {
            "text/plain": [
              "<Figure size 640x480 with 1 Axes>"
            ],
            "image/png": "[encoded data removed]"
          },
          "metadata": {}
        }
      ]
    },
    {
      "cell_type": "code",
      "source": [
        "# Q1: OLS 回帰\n",
        "#t=1期目（2007年）のデータを使って最小2乗法で回帰\n",
        "reg1 = smf.ols(\"ncig ~ life\", data=cig.query(\"t == 1\")).fit()\n",
        "print(reg1.summary())\n"
      ],
      "metadata": {
        "colab": {
          "base_uri": "https://localhost:8080/"
        },
        "id": "CMwQEFQmMzBn",
        "outputId": "c5b4d01d-863a-4481-cc90-d55233d90fb4"
      },
      "execution_count": null,
      "outputs": [
        {
          "output_type": "stream",
          "name": "stdout",
          "text": [
            "                            OLS Regression Results                            \n",
            "==============================================================================\n",
            "Dep. Variable:                   ncig   R-squared:                       0.015\n",
            "Model:                            OLS   Adj. R-squared:                  0.014\n",
            "Method:                 Least Squares   F-statistic:                     44.77\n",
            "Date:                Thu, 27 Mar 2025   Prob (F-statistic):           2.63e-11\n",
            "Time:                        05:55:46   Log-Likelihood:                -9331.4\n",
            "No. Observations:                3022   AIC:                         1.867e+04\n",
            "Df Residuals:                    3020   BIC:                         1.868e+04\n",
            "Df Model:                           1                                         \n",
            "Covariance Type:            nonrobust                                         \n",
            "==============================================================================\n",
            "                 coef    std err          t      P>|t|      [0.025      0.975]\n",
            "------------------------------------------------------------------------------\n",
            "Intercept      5.7368      0.282     20.374      0.000       5.185       6.289\n",
            "life          -0.6854      0.102     -6.691      0.000      -0.886      -0.485\n",
            "==============================================================================\n",
            "Omnibus:                      615.380   Durbin-Watson:                   1.877\n",
            "Prob(Omnibus):                  0.000   Jarque-Bera (JB):             1074.340\n",
            "Skew:                           1.316   Prob(JB):                    5.13e-234\n",
            "Kurtosis:                       4.267   Cond. No.                         8.96\n",
            "==============================================================================\n",
            "\n",
            "Notes:\n",
            "[1] Standard Errors assume that the covariance matrix of the errors is correctly specified.\n"
          ]
        }
      ]
    },
    {
      "cell_type": "code",
      "source": [
        "#t=2期目（2009年）のデータを使って最小2乗法で回帰\n",
        "reg2 = smf.ols(\"ncig ~ life\", data=cig.query(\"t == 2\")).fit()\n",
        "print(reg2.summary())"
      ],
      "metadata": {
        "colab": {
          "base_uri": "https://localhost:8080/"
        },
        "id": "WpgUXWzGPCMp",
        "outputId": "e7e0de49-8cf4-4ce6-8f18-95066f4e416a"
      },
      "execution_count": null,
      "outputs": [
        {
          "output_type": "stream",
          "name": "stdout",
          "text": [
            "                            OLS Regression Results                            \n",
            "==============================================================================\n",
            "Dep. Variable:                   ncig   R-squared:                       0.009\n",
            "Model:                            OLS   Adj. R-squared:                  0.009\n",
            "Method:                 Least Squares   F-statistic:                     28.79\n",
            "Date:                Thu, 27 Mar 2025   Prob (F-statistic):           8.67e-08\n",
            "Time:                        05:55:49   Log-Likelihood:                -9115.6\n",
            "No. Observations:                3022   AIC:                         1.824e+04\n",
            "Df Residuals:                    3020   BIC:                         1.825e+04\n",
            "Df Model:                           1                                         \n",
            "Covariance Type:            nonrobust                                         \n",
            "==============================================================================\n",
            "                 coef    std err          t      P>|t|      [0.025      0.975]\n",
            "------------------------------------------------------------------------------\n",
            "Intercept      5.0725      0.273     18.601      0.000       4.538       5.607\n",
            "life          -0.5079      0.095     -5.366      0.000      -0.694      -0.322\n",
            "==============================================================================\n",
            "Omnibus:                      577.432   Durbin-Watson:                   2.008\n",
            "Prob(Omnibus):                  0.000   Jarque-Bera (JB):              968.064\n",
            "Skew:                           1.272   Prob(JB):                    6.13e-211\n",
            "Kurtosis:                       4.102   Cond. No.                         9.69\n",
            "==============================================================================\n",
            "\n",
            "Notes:\n",
            "[1] Standard Errors assume that the covariance matrix of the errors is correctly specified.\n"
          ]
        }
      ]
    },
    {
      "cell_type": "code",
      "source": [
        "# 一階差分法 説明変数 lifeのみ\n",
        "#　FirstDifferenceOLS は、linearmodels.panel モジュールにある「パネルデータの一階差分回帰モデル」\n",
        "plreg1 = FirstDifferenceOLS.from_formula(\"ncig ~ life\", data=cig).fit()\n",
        "print(plreg1.summary)"
      ],
      "metadata": {
        "colab": {
          "base_uri": "https://localhost:8080/"
        },
        "id": "dkHAfLf_SKLQ",
        "outputId": "84dc52f6-857d-41c4-e850-12da274acb94"
      },
      "execution_count": null,
      "outputs": [
        {
          "output_type": "stream",
          "name": "stdout",
          "text": [
            "                     FirstDifferenceOLS Estimation Summary                      \n",
            "================================================================================\n",
            "Dep. Variable:                   ncig   R-squared:                        0.0023\n",
            "Estimator:         FirstDifferenceOLS   R-squared (Between):             -0.1810\n",
            "No. Observations:                3022   R-squared (Within):               0.0023\n",
            "Date:                Thu, Mar 27 2025   R-squared (Overall):             -0.1495\n",
            "Time:                        05:55:52   Log-likelihood                   -9340.6\n",
            "Cov. Estimator:            Unadjusted                                           \n",
            "                                        F-statistic:                      6.8376\n",
            "Entities:                        3022   P-value                           0.0090\n",
            "Avg Obs:                       2.0000   Distribution:                  F(1,3021)\n",
            "Min Obs:                       2.0000                                           \n",
            "Max Obs:                       2.0000   F-statistic (robust):             6.8376\n",
            "                                        P-value                           0.0090\n",
            "Time periods:                       2   Distribution:                  F(1,3021)\n",
            "Avg Obs:                       3022.0                                           \n",
            "Min Obs:                       3022.0                                           \n",
            "Max Obs:                       3022.0                                           \n",
            "                                                                                \n",
            "                             Parameter Estimates                              \n",
            "==============================================================================\n",
            "            Parameter  Std. Err.     T-stat    P-value    Lower CI    Upper CI\n",
            "------------------------------------------------------------------------------\n",
            "life          -0.2873     0.1099    -2.6149     0.0090     -0.5027     -0.0719\n",
            "==============================================================================\n"
          ]
        }
      ]
    },
    {
      "cell_type": "code",
      "source": [
        "# 一階差分法 説明変数 life + income\n",
        "plreg2 = FirstDifferenceOLS.from_formula(\"ncig ~ life + income\", data=cig).fit()\n",
        "print(plreg2.summary)"
      ],
      "metadata": {
        "colab": {
          "base_uri": "https://localhost:8080/"
        },
        "id": "ISByF8FfSZTW",
        "outputId": "17aaf991-be6c-4f02-995b-f221450b8550"
      },
      "execution_count": null,
      "outputs": [
        {
          "output_type": "stream",
          "name": "stdout",
          "text": [
            "                     FirstDifferenceOLS Estimation Summary                      \n",
            "================================================================================\n",
            "Dep. Variable:                   ncig   R-squared:                        0.0101\n",
            "Estimator:         FirstDifferenceOLS   R-squared (Between):              0.0492\n",
            "No. Observations:                3022   R-squared (Within):               0.0101\n",
            "Date:                Thu, Mar 27 2025   R-squared (Overall):              0.0425\n",
            "Time:                        05:55:56   Log-likelihood                   -9328.7\n",
            "Cov. Estimator:            Unadjusted                                           \n",
            "                                        F-statistic:                      15.394\n",
            "Entities:                        3022   P-value                           0.0000\n",
            "Avg Obs:                       2.0000   Distribution:                  F(2,3020)\n",
            "Min Obs:                       2.0000                                           \n",
            "Max Obs:                       2.0000   F-statistic (robust):             15.394\n",
            "                                        P-value                           0.0000\n",
            "Time periods:                       2   Distribution:                  F(2,3020)\n",
            "Avg Obs:                       3022.0                                           \n",
            "Min Obs:                       3022.0                                           \n",
            "Max Obs:                       3022.0                                           \n",
            "                                                                                \n",
            "                             Parameter Estimates                              \n",
            "==============================================================================\n",
            "            Parameter  Std. Err.     T-stat    P-value    Lower CI    Upper CI\n",
            "------------------------------------------------------------------------------\n",
            "life          -0.3007     0.1095    -2.7462     0.0061     -0.5153     -0.0860\n",
            "income         0.0031     0.0006     4.8886     0.0000      0.0019      0.0044\n",
            "==============================================================================\n"
          ]
        }
      ]
    },
    {
      "cell_type": "code",
      "source": [
        "#Q2\n",
        "# GitHubのdataを利用\n",
        "url = \"https://raw.githubusercontent.com/Kazuyasus/Econometrics/main/life.csv\"\n",
        "\n",
        "# CSVを読み込む\n",
        "life = pd.read_csv(url)\n",
        "\n",
        "# パネルデータの設定\n",
        "life = life.set_index([\"id\", \"t\"])\n",
        "\n",
        "life.head()"
      ],
      "metadata": {
        "colab": {
          "base_uri": "https://localhost:8080/",
          "height": 237
        },
        "id": "ckTFgSEXSySx",
        "outputId": "96634128-e3fb-462b-8aaa-02c73c431652"
      },
      "execution_count": null,
      "outputs": [
        {
          "output_type": "execute_result",
          "data": {
            "text/plain": [
              "      income  life  shock  y2  shock_y2\n",
              "id t                                   \n",
              "1  1   300.0     3      0   0         0\n",
              "   2   300.0     1      0   1         0\n",
              "2  1   300.0     3      1   0         0\n",
              "   2   300.0     4      1   1         1\n",
              "3  1    50.0     3      1   0         0"
            ],
            "text/html": [
              "\n",
              "  <div id=\"df-668cbfca-c7f9-462c-b814-0d6eac5fb3ed\" class=\"colab-df-container\">\n",
              "    <div>\n",
              "<style scoped>\n",
              "    .dataframe tbody tr th:only-of-type {\n",
              "        vertical-align: middle;\n",
              "    }\n",
              "\n",
              "    .dataframe tbody tr th {\n",
              "        vertical-align: top;\n",
              "    }\n",
              "\n",
              "    .dataframe thead th {\n",
              "        text-align: right;\n",
              "    }\n",
              "</style>\n",
              "<table border=\"1\" class=\"dataframe\">\n",
              "  <thead>\n",
              "    <tr style=\"text-align: right;\">\n",
              "      <th></th>\n",
              "      <th></th>\n",
              "      <th>income</th>\n",
              "      <th>life</th>\n",
              "      <th>shock</th>\n",
              "      <th>y2</th>\n",
              "      <th>shock_y2</th>\n",
              "    </tr>\n",
              "    <tr>\n",
              "      <th>id</th>\n",
              "      <th>t</th>\n",
              "      <th></th>\n",
              "      <th></th>\n",
              "      <th></th>\n",
              "      <th></th>\n",
              "      <th></th>\n",
              "    </tr>\n",
              "  </thead>\n",
              "  <tbody>\n",
              "    <tr>\n",
              "      <th rowspan=\"2\" valign=\"top\">1</th>\n",
              "      <th>1</th>\n",
              "      <td>300.0</td>\n",
              "      <td>3</td>\n",
              "      <td>0</td>\n",
              "      <td>0</td>\n",
              "      <td>0</td>\n",
              "    </tr>\n",
              "    <tr>\n",
              "      <th>2</th>\n",
              "      <td>300.0</td>\n",
              "      <td>1</td>\n",
              "      <td>0</td>\n",
              "      <td>1</td>\n",
              "      <td>0</td>\n",
              "    </tr>\n",
              "    <tr>\n",
              "      <th rowspan=\"2\" valign=\"top\">2</th>\n",
              "      <th>1</th>\n",
              "      <td>300.0</td>\n",
              "      <td>3</td>\n",
              "      <td>1</td>\n",
              "      <td>0</td>\n",
              "      <td>0</td>\n",
              "    </tr>\n",
              "    <tr>\n",
              "      <th>2</th>\n",
              "      <td>300.0</td>\n",
              "      <td>4</td>\n",
              "      <td>1</td>\n",
              "      <td>1</td>\n",
              "      <td>1</td>\n",
              "    </tr>\n",
              "    <tr>\n",
              "      <th>3</th>\n",
              "      <th>1</th>\n",
              "      <td>50.0</td>\n",
              "      <td>3</td>\n",
              "      <td>1</td>\n",
              "      <td>0</td>\n",
              "      <td>0</td>\n",
              "    </tr>\n",
              "  </tbody>\n",
              "</table>\n",
              "</div>\n",
              "    <div class=\"colab-df-buttons\">\n",
              "\n",
              "  <div class=\"colab-df-container\">\n",
              "    <button class=\"colab-df-convert\" onclick=\"convertToInteractive('df-668cbfca-c7f9-462c-b814-0d6eac5fb3ed')\"\n",
              "            title=\"Convert this dataframe to an interactive table.\"\n",
              "            style=\"display:none;\">\n",
              "\n",
              "  <svg xmlns=\"http://www.w3.org/2000/svg\" height=\"24px\" viewBox=\"0 -960 960 960\">\n",
              "    <path d=\"M120-120v-720h720v720H120Zm60-500h600v-160H180v160Zm220 220h160v-160H400v160Zm0 220h160v-160H400v160ZM180-400h160v-160H180v160Zm440 0h160v-160H620v160ZM180-180h160v-160H180v160Zm440 0h160v-160H620v160Z\"/>\n",
              "  </svg>\n",
              "    </button>\n",
              "\n",
              "  <style>\n",
              "    .colab-df-container {\n",
              "      display:flex;\n",
              "      gap: 12px;\n",
              "    }\n",
              "\n",
              "    .colab-df-convert {\n",
              "      background-color: #E8F0FE;\n",
              "      border: none;\n",
              "      border-radius: 50%;\n",
              "      cursor: pointer;\n",
              "      display: none;\n",
              "      fill: #1967D2;\n",
              "      height: 32px;\n",
              "      padding: 0 0 0 0;\n",
              "      width: 32px;\n",
              "    }\n",
              "\n",
              "    .colab-df-convert:hover {\n",
              "      background-color: #E2EBFA;\n",
              "      box-shadow: 0px 1px 2px rgba(60, 64, 67, 0.3), 0px 1px 3px 1px rgba(60, 64, 67, 0.15);\n",
              "      fill: #174EA6;\n",
              "    }\n",
              "\n",
              "    .colab-df-buttons div {\n",
              "      margin-bottom: 4px;\n",
              "    }\n",
              "\n",
              "    [theme=dark] .colab-df-convert {\n",
              "      background-color: #3B4455;\n",
              "      fill: #D2E3FC;\n",
              "    }\n",
              "\n",
              "    [theme=dark] .colab-df-convert:hover {\n",
              "      background-color: #434B5C;\n",
              "      box-shadow: 0px 1px 3px 1px rgba(0, 0, 0, 0.15);\n",
              "      filter: drop-shadow(0px 1px 2px rgba(0, 0, 0, 0.3));\n",
              "      fill: #FFFFFF;\n",
              "    }\n",
              "  </style>\n",
              "\n",
              "    <script>\n",
              "      const buttonEl =\n",
              "        document.querySelector('#df-668cbfca-c7f9-462c-b814-0d6eac5fb3ed button.colab-df-convert');\n",
              "      buttonEl.style.display =\n",
              "        google.colab.kernel.accessAllowed ? 'block' : 'none';\n",
              "\n",
              "      async function convertToInteractive(key) {\n",
              "        const element = document.querySelector('#df-668cbfca-c7f9-462c-b814-0d6eac5fb3ed');\n",
              "        const dataTable =\n",
              "          await google.colab.kernel.invokeFunction('convertToInteractive',\n",
              "                                                    [key], {});\n",
              "        if (!dataTable) return;\n",
              "\n",
              "        const docLinkHtml = 'Like what you see? Visit the ' +\n",
              "          '<a target=\"_blank\" href=https://colab.research.google.com/notebooks/data_table.ipynb>data table notebook</a>'\n",
              "          + ' to learn more about interactive tables.';\n",
              "        element.innerHTML = '';\n",
              "        dataTable['output_type'] = 'display_data';\n",
              "        await google.colab.output.renderOutput(dataTable, element);\n",
              "        const docLink = document.createElement('div');\n",
              "        docLink.innerHTML = docLinkHtml;\n",
              "        element.appendChild(docLink);\n",
              "      }\n",
              "    </script>\n",
              "  </div>\n",
              "\n",
              "\n",
              "<div id=\"df-b906abf6-fe8b-4fa0-a66a-21f15934c03f\">\n",
              "  <button class=\"colab-df-quickchart\" onclick=\"quickchart('df-b906abf6-fe8b-4fa0-a66a-21f15934c03f')\"\n",
              "            title=\"Suggest charts\"\n",
              "            style=\"display:none;\">\n",
              "\n",
              "<svg xmlns=\"http://www.w3.org/2000/svg\" height=\"24px\"viewBox=\"0 0 24 24\"\n",
              "     width=\"24px\">\n",
              "    <g>\n",
              "        <path d=\"M19 3H5c-1.1 0-2 .9-2 2v14c0 1.1.9 2 2 2h14c1.1 0 2-.9 2-2V5c0-1.1-.9-2-2-2zM9 17H7v-7h2v7zm4 0h-2V7h2v10zm4 0h-2v-4h2v4z\"/>\n",
              "    </g>\n",
              "</svg>\n",
              "  </button>\n",
              "\n",
              "<style>\n",
              "  .colab-df-quickchart {\n",
              "      --bg-color: #E8F0FE;\n",
              "      --fill-color: #1967D2;\n",
              "      --hover-bg-color: #E2EBFA;\n",
              "      --hover-fill-color: #174EA6;\n",
              "      --disabled-fill-color: #AAA;\n",
              "      --disabled-bg-color: #DDD;\n",
              "  }\n",
              "\n",
              "  [theme=dark] .colab-df-quickchart {\n",
              "      --bg-color: #3B4455;\n",
              "      --fill-color: #D2E3FC;\n",
              "      --hover-bg-color: #434B5C;\n",
              "      --hover-fill-color: #FFFFFF;\n",
              "      --disabled-bg-color: #3B4455;\n",
              "      --disabled-fill-color: #666;\n",
              "  }\n",
              "\n",
              "  .colab-df-quickchart {\n",
              "    background-color: var(--bg-color);\n",
              "    border: none;\n",
              "    border-radius: 50%;\n",
              "    cursor: pointer;\n",
              "    display: none;\n",
              "    fill: var(--fill-color);\n",
              "    height: 32px;\n",
              "    padding: 0;\n",
              "    width: 32px;\n",
              "  }\n",
              "\n",
              "  .colab-df-quickchart:hover {\n",
              "    background-color: var(--hover-bg-color);\n",
              "    box-shadow: 0 1px 2px rgba(60, 64, 67, 0.3), 0 1px 3px 1px rgba(60, 64, 67, 0.15);\n",
              "    fill: var(--button-hover-fill-color);\n",
              "  }\n",
              "\n",
              "  .colab-df-quickchart-complete:disabled,\n",
              "  .colab-df-quickchart-complete:disabled:hover {\n",
              "    background-color: var(--disabled-bg-color);\n",
              "    fill: var(--disabled-fill-color);\n",
              "    box-shadow: none;\n",
              "  }\n",
              "\n",
              "  .colab-df-spinner {\n",
              "    border: 2px solid var(--fill-color);\n",
              "    border-color: transparent;\n",
              "    border-bottom-color: var(--fill-color);\n",
              "    animation:\n",
              "      spin 1s steps(1) infinite;\n",
              "  }\n",
              "\n",
              "  @keyframes spin {\n",
              "    0% {\n",
              "      border-color: transparent;\n",
              "      border-bottom-color: var(--fill-color);\n",
              "      border-left-color: var(--fill-color);\n",
              "    }\n",
              "    20% {\n",
              "      border-color: transparent;\n",
              "      border-left-color: var(--fill-color);\n",
              "      border-top-color: var(--fill-color);\n",
              "    }\n",
              "    30% {\n",
              "      border-color: transparent;\n",
              "      border-left-color: var(--fill-color);\n",
              "      border-top-color: var(--fill-color);\n",
              "      border-right-color: var(--fill-color);\n",
              "    }\n",
              "    40% {\n",
              "      border-color: transparent;\n",
              "      border-right-color: var(--fill-color);\n",
              "      border-top-color: var(--fill-color);\n",
              "    }\n",
              "    60% {\n",
              "      border-color: transparent;\n",
              "      border-right-color: var(--fill-color);\n",
              "    }\n",
              "    80% {\n",
              "      border-color: transparent;\n",
              "      border-right-color: var(--fill-color);\n",
              "      border-bottom-color: var(--fill-color);\n",
              "    }\n",
              "    90% {\n",
              "      border-color: transparent;\n",
              "      border-bottom-color: var(--fill-color);\n",
              "    }\n",
              "  }\n",
              "</style>\n",
              "\n",
              "  <script>\n",
              "    async function quickchart(key) {\n",
              "      const quickchartButtonEl =\n",
              "        document.querySelector('#' + key + ' button');\n",
              "      quickchartButtonEl.disabled = true;  // To prevent multiple clicks.\n",
              "      quickchartButtonEl.classList.add('colab-df-spinner');\n",
              "      try {\n",
              "        const charts = await google.colab.kernel.invokeFunction(\n",
              "            'suggestCharts', [key], {});\n",
              "      } catch (error) {\n",
              "        console.error('Error during call to suggestCharts:', error);\n",
              "      }\n",
              "      quickchartButtonEl.classList.remove('colab-df-spinner');\n",
              "      quickchartButtonEl.classList.add('colab-df-quickchart-complete');\n",
              "    }\n",
              "    (() => {\n",
              "      let quickchartButtonEl =\n",
              "        document.querySelector('#df-b906abf6-fe8b-4fa0-a66a-21f15934c03f button');\n",
              "      quickchartButtonEl.style.display =\n",
              "        google.colab.kernel.accessAllowed ? 'block' : 'none';\n",
              "    })();\n",
              "  </script>\n",
              "</div>\n",
              "\n",
              "    </div>\n",
              "  </div>\n"
            ],
            "application/vnd.google.colaboratory.intrinsic+json": {
              "type": "dataframe",
              "variable_name": "life",
              "summary": "{\n  \"name\": \"life\",\n  \"rows\": 6040,\n  \"fields\": [\n    {\n      \"column\": \"income\",\n      \"properties\": {\n        \"dtype\": \"number\",\n        \"std\": 238.21931122360093,\n        \"min\": 0.0,\n        \"max\": 2250.0,\n        \"num_unique_values\": 13,\n        \"samples\": [\n          2250.0,\n          100.0,\n          300.0\n        ],\n        \"semantic_type\": \"\",\n        \"description\": \"\"\n      }\n    },\n    {\n      \"column\": \"life\",\n      \"properties\": {\n        \"dtype\": \"number\",\n        \"std\": 0,\n        \"min\": 0,\n        \"max\": 4,\n        \"num_unique_values\": 5,\n        \"samples\": [\n          1,\n          0,\n          4\n        ],\n        \"semantic_type\": \"\",\n        \"description\": \"\"\n      }\n    },\n    {\n      \"column\": \"shock\",\n      \"properties\": {\n        \"dtype\": \"number\",\n        \"std\": 0,\n        \"min\": 0,\n        \"max\": 1,\n        \"num_unique_values\": 2,\n        \"samples\": [\n          1,\n          0\n        ],\n        \"semantic_type\": \"\",\n        \"description\": \"\"\n      }\n    },\n    {\n      \"column\": \"y2\",\n      \"properties\": {\n        \"dtype\": \"number\",\n        \"std\": 0,\n        \"min\": 0,\n        \"max\": 1,\n        \"num_unique_values\": 2,\n        \"samples\": [\n          1,\n          0\n        ],\n        \"semantic_type\": \"\",\n        \"description\": \"\"\n      }\n    },\n    {\n      \"column\": \"shock_y2\",\n      \"properties\": {\n        \"dtype\": \"number\",\n        \"std\": 0,\n        \"min\": 0,\n        \"max\": 1,\n        \"num_unique_values\": 2,\n        \"samples\": [\n          1,\n          0\n        ],\n        \"semantic_type\": \"\",\n        \"description\": \"\"\n      }\n    }\n  ]\n}"
            }
          },
          "metadata": {},
          "execution_count": 10
        }
      ]
    },
    {
      "cell_type": "code",
      "source": [
        "#①t=2期目のデータを使って最小2乗法\n",
        "reg3 = smf.ols(\"life ~ shock + income\", data=life.query(\"t == 2\")).fit()\n",
        "print(reg3.summary())"
      ],
      "metadata": {
        "colab": {
          "base_uri": "https://localhost:8080/"
        },
        "id": "ObQztWaUTo37",
        "outputId": "83ae021a-412b-4264-aec8-4408fcabf35f"
      },
      "execution_count": null,
      "outputs": [
        {
          "output_type": "stream",
          "name": "stdout",
          "text": [
            "                            OLS Regression Results                            \n",
            "==============================================================================\n",
            "Dep. Variable:                   life   R-squared:                       0.010\n",
            "Model:                            OLS   Adj. R-squared:                  0.009\n",
            "Method:                 Least Squares   F-statistic:                     14.99\n",
            "Date:                Thu, 27 Mar 2025   Prob (F-statistic):           3.31e-07\n",
            "Time:                        05:56:03   Log-Likelihood:                -4078.2\n",
            "No. Observations:                3020   AIC:                             8162.\n",
            "Df Residuals:                    3017   BIC:                             8180.\n",
            "Df Model:                           2                                         \n",
            "Covariance Type:            nonrobust                                         \n",
            "==============================================================================\n",
            "                 coef    std err          t      P>|t|      [0.025      0.975]\n",
            "------------------------------------------------------------------------------\n",
            "Intercept      2.6737      0.031     87.575      0.000       2.614       2.734\n",
            "shock         -0.1249      0.035     -3.609      0.000      -0.193      -0.057\n",
            "income         0.0003    7.1e-05      3.974      0.000       0.000       0.000\n",
            "==============================================================================\n",
            "Omnibus:                      201.093   Durbin-Watson:                   2.019\n",
            "Prob(Omnibus):                  0.000   Jarque-Bera (JB):              241.247\n",
            "Skew:                          -0.674   Prob(JB):                     4.11e-53\n",
            "Kurtosis:                       3.314   Cond. No.                         882.\n",
            "==============================================================================\n",
            "\n",
            "Notes:\n",
            "[1] Standard Errors assume that the covariance matrix of the errors is correctly specified.\n"
          ]
        }
      ]
    },
    {
      "cell_type": "code",
      "source": [
        "#②1階差分方程式\n",
        "# .groupby(\"id\")：個人（または地域など）のIDごとにグループ化\n",
        "# ['life'].diff()：各IDごとに life 列の 前時点との差分 を計算\n",
        "# D_life 列として新たに保存（D = Difference の略）\n",
        "# D_income 列として新たに保存（D = Difference の略）\n",
        "life['D_life'] = life.groupby(\"id\")['life'].diff()\n",
        "life['D_income'] = life.groupby(\"id\")['income'].diff()\n",
        "\n",
        "preg1 = smf.ols(\"D_life ~ shock + D_income\", data=life.dropna()).fit()\n",
        "print(preg1.summary())"
      ],
      "metadata": {
        "colab": {
          "base_uri": "https://localhost:8080/"
        },
        "id": "fBbAsQvPUAJi",
        "outputId": "57d2350f-ab32-4388-82b2-a77d0668c022"
      },
      "execution_count": null,
      "outputs": [
        {
          "output_type": "stream",
          "name": "stdout",
          "text": [
            "                            OLS Regression Results                            \n",
            "==============================================================================\n",
            "Dep. Variable:                 D_life   R-squared:                       0.003\n",
            "Model:                            OLS   Adj. R-squared:                  0.003\n",
            "Method:                 Least Squares   F-statistic:                     5.197\n",
            "Date:                Thu, 27 Mar 2025   Prob (F-statistic):            0.00558\n",
            "Time:                        05:56:05   Log-Likelihood:                -5096.6\n",
            "No. Observations:                3020   AIC:                         1.020e+04\n",
            "Df Residuals:                    3017   BIC:                         1.022e+04\n",
            "Df Model:                           2                                         \n",
            "Covariance Type:            nonrobust                                         \n",
            "==============================================================================\n",
            "                 coef    std err          t      P>|t|      [0.025      0.975]\n",
            "------------------------------------------------------------------------------\n",
            "Intercept      0.2154      0.031      6.869      0.000       0.154       0.277\n",
            "shock         -0.1401      0.048     -2.892      0.004      -0.235      -0.045\n",
            "D_income       0.0002      0.000      1.383      0.167   -9.32e-05       0.001\n",
            "==============================================================================\n",
            "Omnibus:                        1.724   Durbin-Watson:                   2.058\n",
            "Prob(Omnibus):                  0.422   Jarque-Bera (JB):                1.698\n",
            "Skew:                           0.023   Prob(JB):                        0.428\n",
            "Kurtosis:                       3.107   Cond. No.                         336.\n",
            "==============================================================================\n",
            "\n",
            "Notes:\n",
            "[1] Standard Errors assume that the covariance matrix of the errors is correctly specified.\n"
          ]
        }
      ]
    },
    {
      "cell_type": "code",
      "source": [
        "#Q3\n",
        "#プーリングOLS\n",
        "#差の差の推定量\n",
        "pols = PanelOLS.from_formula(\"life ~ shock + y2 + shock_y2 + income\", data=life).fit()\n",
        "print(pols.summary)"
      ],
      "metadata": {
        "colab": {
          "base_uri": "https://localhost:8080/"
        },
        "id": "Pr1gXg8UUb4f",
        "outputId": "ec849728-6d9b-4f31-bc5e-8543c3820d63"
      },
      "execution_count": null,
      "outputs": [
        {
          "output_type": "stream",
          "name": "stdout",
          "text": [
            "                          PanelOLS Estimation Summary                           \n",
            "================================================================================\n",
            "Dep. Variable:                   life   R-squared:                        0.7186\n",
            "Estimator:                   PanelOLS   R-squared (Between):              0.8294\n",
            "No. Observations:                6040   R-squared (Within):              -1.1472\n",
            "Date:                Thu, Mar 27 2025   R-squared (Overall):              0.7186\n",
            "Time:                        05:56:09   Log-likelihood                -1.094e+04\n",
            "Cov. Estimator:            Unadjusted                                           \n",
            "                                        F-statistic:                      3853.9\n",
            "Entities:                        3020   P-value                           0.0000\n",
            "Avg Obs:                       2.0000   Distribution:                  F(4,6036)\n",
            "Min Obs:                       2.0000                                           \n",
            "Max Obs:                       2.0000   F-statistic (robust):             3853.9\n",
            "                                        P-value                           0.0000\n",
            "Time periods:                       2   Distribution:                  F(4,6036)\n",
            "Avg Obs:                       3020.0                                           \n",
            "Min Obs:                       3020.0                                           \n",
            "Max Obs:                       3020.0                                           \n",
            "                                                                                \n",
            "                             Parameter Estimates                              \n",
            "==============================================================================\n",
            "            Parameter  Std. Err.     T-stat    P-value    Lower CI    Upper CI\n",
            "------------------------------------------------------------------------------\n",
            "shock          1.8409     0.0455     40.465     0.0000      1.7517      1.9301\n",
            "y2             1.9276     0.0405     47.611     0.0000      1.8483      2.0070\n",
            "shock_y2      -1.9177     0.0715    -26.808     0.0000     -2.0579     -1.7774\n",
            "income         0.0028  6.842e-05     40.918     0.0000      0.0027      0.0029\n",
            "==============================================================================\n",
            "\n",
            "\n"
          ]
        }
      ]
    },
    {
      "cell_type": "code",
      "source": [
        "#固定効果モデル（within: Fixed Effect）\n",
        "#fe = PanelOLS.from_formula(\"life ~ y2 + shock_y2 + income + EntityEffects\", data=life).fit()  ではErrorとなる\n",
        "# shockは2か年ども同じ変数となっており、個体ごとで変動がないため、モデルに含めることができない状態になっている。\n",
        "# そのような説明変数をモデルに含めないようにするため、drop_absorbed=Trueを実行する\n",
        "\n",
        "# PanelOLS は、linearmodels.panel モジュールの関数 パネルデータ分析（固定効果・ランダム効果など）を行うためのクラス\n",
        "# from_formula(...) は、Rのような式形式でモデルを記述できる便利な構文\n",
        "fe = PanelOLS.from_formula(\"life ~ y2 + shock_y2 + income + EntityEffects\",\n",
        "                           data=life, drop_absorbed=True).fit()\n",
        "print(fe.summary)"
      ],
      "metadata": {
        "colab": {
          "base_uri": "https://localhost:8080/"
        },
        "id": "unJCkef2Vrrc",
        "outputId": "06ad6ae7-d4dc-4782-ff38-110f0548f630"
      },
      "execution_count": null,
      "outputs": [
        {
          "output_type": "stream",
          "name": "stdout",
          "text": [
            "                          PanelOLS Estimation Summary                           \n",
            "================================================================================\n",
            "Dep. Variable:                   life   R-squared:                        0.0188\n",
            "Estimator:                   PanelOLS   R-squared (Between):              0.0982\n",
            "No. Observations:                6040   R-squared (Within):               0.0188\n",
            "Date:                Thu, Mar 27 2025   R-squared (Overall):              0.0938\n",
            "Time:                        06:47:42   Log-likelihood                   -6006.6\n",
            "Cov. Estimator:            Unadjusted                                           \n",
            "                                        F-statistic:                      19.315\n",
            "Entities:                        3020   P-value                           0.0000\n",
            "Avg Obs:                       2.0000   Distribution:                  F(3,3017)\n",
            "Min Obs:                       2.0000                                           \n",
            "Max Obs:                       2.0000   F-statistic (robust):             19.315\n",
            "                                        P-value                           0.0000\n",
            "Time periods:                       2   Distribution:                  F(3,3017)\n",
            "Avg Obs:                       3020.0                                           \n",
            "Min Obs:                       3020.0                                           \n",
            "Max Obs:                       3020.0                                           \n",
            "                                                                                \n",
            "                             Parameter Estimates                              \n",
            "==============================================================================\n",
            "            Parameter  Std. Err.     T-stat    P-value    Lower CI    Upper CI\n",
            "------------------------------------------------------------------------------\n",
            "y2             0.2154     0.0314     6.8686     0.0000      0.1539      0.2768\n",
            "shock_y2      -0.1401     0.0484    -2.8923     0.0039     -0.2351     -0.0451\n",
            "income         0.0002     0.0002     1.3834     0.1667   -9.32e-05      0.0005\n",
            "==============================================================================\n",
            "\n",
            "F-test for Poolability: 1.0864\n",
            "P-value: 0.0115\n",
            "Distribution: F(3019,3017)\n",
            "\n",
            "Included effects: Entity\n",
            "Pooled F-statistic\n",
            "H0: Effects are zero\n",
            "Statistic: 1.0864\n",
            "P-value: 0.0115\n",
            "Distributed: F(3019,3017)\n"
          ]
        }
      ]
    },
    {
      "cell_type": "code",
      "source": [
        "# 個別効果の推定\n",
        "mu = fe.estimated_effects\n",
        "print(mu)"
      ],
      "metadata": {
        "colab": {
          "base_uri": "https://localhost:8080/"
        },
        "id": "v2yH1vv_XxLW",
        "outputId": "47b6d581-8547-479f-df17-261d3e7208ac"
      },
      "execution_count": null,
      "outputs": [
        {
          "output_type": "stream",
          "name": "stdout",
          "text": [
            "        estimated_effects\n",
            "id   t                   \n",
            "1    1           1.825332\n",
            "     2           1.825332\n",
            "2    1           3.395391\n",
            "     2           3.395391\n",
            "3    1           2.423301\n",
            "...                   ...\n",
            "3018 2           2.917719\n",
            "3019 1           2.412137\n",
            "     2           2.412137\n",
            "3020 1           2.336496\n",
            "     2           2.336496\n",
            "\n",
            "[6040 rows x 1 columns]\n"
          ]
        }
      ]
    },
    {
      "cell_type": "code",
      "source": [
        "# 個別効果の平均値\n",
        "print(mu.mean())"
      ],
      "metadata": {
        "colab": {
          "base_uri": "https://localhost:8080/"
        },
        "id": "LXJFnl6DasIB",
        "outputId": "c8809ded-fd65-4f01-83d4-9ff7ce6bbbad"
      },
      "execution_count": null,
      "outputs": [
        {
          "output_type": "stream",
          "name": "stdout",
          "text": [
            "estimated_effects    2.481525\n",
            "dtype: float64\n"
          ]
        }
      ]
    },
    {
      "cell_type": "code",
      "source": [
        "#########################################################################\n",
        "#Q4\n",
        "#変量効果モデル（Random Effect）\n",
        "# RandomEffects は、変量効果モデル（REモデル）を行うためのクラス\n",
        "re = RandomEffects.from_formula(\"life ~ 1 + shock + y2 + shock_y2 + income\", data=life).fit()\n",
        "print(re.summary)"
      ],
      "metadata": {
        "colab": {
          "base_uri": "https://localhost:8080/"
        },
        "id": "vikDSvB1a5rY",
        "outputId": "96688e13-a132-4b60-a3df-428c99b7fa2e"
      },
      "execution_count": null,
      "outputs": [
        {
          "output_type": "stream",
          "name": "stdout",
          "text": [
            "                        RandomEffects Estimation Summary                        \n",
            "================================================================================\n",
            "Dep. Variable:                   life   R-squared:                        0.0156\n",
            "Estimator:              RandomEffects   R-squared (Between):              0.0124\n",
            "No. Observations:                6040   R-squared (Within):               0.0188\n",
            "Date:                Thu, Mar 27 2025   R-squared (Overall):              0.0155\n",
            "Time:                        05:56:42   Log-likelihood                   -8099.6\n",
            "Cov. Estimator:            Unadjusted                                           \n",
            "                                        F-statistic:                      23.908\n",
            "Entities:                        3020   P-value                           0.0000\n",
            "Avg Obs:                       2.0000   Distribution:                  F(4,6035)\n",
            "Min Obs:                       2.0000                                           \n",
            "Max Obs:                       2.0000   F-statistic (robust):             23.908\n",
            "                                        P-value                           0.0000\n",
            "Time periods:                       2   Distribution:                  F(4,6035)\n",
            "Avg Obs:                       3020.0                                           \n",
            "Min Obs:                       3020.0                                           \n",
            "Max Obs:                       3020.0                                           \n",
            "                                                                                \n",
            "                             Parameter Estimates                              \n",
            "==============================================================================\n",
            "            Parameter  Std. Err.     T-stat    P-value    Lower CI    Upper CI\n",
            "------------------------------------------------------------------------------\n",
            "Intercept      2.4544     0.0263     93.194     0.0000      2.4028      2.5060\n",
            "shock          0.0153     0.0350     0.4374     0.6618     -0.0533      0.0839\n",
            "y2             0.2130     0.0310     6.8658     0.0000      0.1522      0.2738\n",
            "shock_y2      -0.1398     0.0484    -2.8860     0.0039     -0.2347     -0.0448\n",
            "income         0.0003  5.203e-05     5.8300     0.0000      0.0002      0.0004\n",
            "==============================================================================\n"
          ]
        }
      ]
    },
    {
      "cell_type": "code",
      "source": [
        "from linearmodels.panel import compare\n",
        "comparison = compare({'Pooling OLS': pols, 'Fixed Effects': fe})\n",
        "print(comparison)"
      ],
      "metadata": {
        "colab": {
          "base_uri": "https://localhost:8080/"
        },
        "id": "EVhQptRGduLt",
        "outputId": "80f8f215-6662-421f-df6c-63ed8ce1740d"
      },
      "execution_count": null,
      "outputs": [
        {
          "output_type": "stream",
          "name": "stdout",
          "text": [
            "                   Model Comparison                  \n",
            "=====================================================\n",
            "                           Pooling OLS  Fixed Effects\n",
            "-----------------------------------------------------\n",
            "Dep. Variable                     life           life\n",
            "Estimator                     PanelOLS       PanelOLS\n",
            "No. Observations                  6040           6040\n",
            "Cov. Est.                   Unadjusted     Unadjusted\n",
            "R-squared                       0.7186         0.0188\n",
            "R-Squared (Within)             -1.1472         0.0188\n",
            "R-Squared (Between)             0.8294         0.0982\n",
            "R-Squared (Overall)             0.7186         0.0938\n",
            "F-statistic                     3853.9         19.315\n",
            "P-value (F-stat)                0.0000         0.0000\n",
            "=====================     ============   ============\n",
            "shock                           1.8409               \n",
            "                              (40.465)               \n",
            "y2                              1.9276         0.2154\n",
            "                              (47.611)       (6.8686)\n",
            "shock_y2                       -1.9177        -0.1401\n",
            "                             (-26.808)      (-2.8923)\n",
            "income                          0.0028         0.0002\n",
            "                              (40.918)       (1.3834)\n",
            "======================= ============== ==============\n",
            "Effects                                        Entity\n",
            "-----------------------------------------------------\n",
            "\n",
            "T-stats reported in parentheses\n"
          ]
        }
      ]
    },
    {
      "cell_type": "code",
      "source": [
        "# 3つの検定は実装されていない\n",
        "# ①Pooling OLS VS Fixed Effect Model 　　F test\n",
        "# ②Pooling OLS VS Random Effect Model    Breausch Pagan test\n",
        "# ③ Fixed Effect Model VS Random Effect Model  Hausman test\n",
        "# 以下、代替分析案になります。　ただし、R、Stataと同じ推計結果が得られません。"
      ],
      "metadata": {
        "id": "FzGXT0RnobXM"
      },
      "execution_count": null,
      "outputs": []
    },
    {
      "cell_type": "code",
      "source": [
        "#Pooling OLS VS Fixed Effect Model\n",
        "#帰無仮説 H0 : μ1 = μ2 = … = μN (全ての個別効果が同じ値である)個体特融効果はない\n",
        "#F検定によって行う。\n",
        "print(fe.f_pooled)\n",
        "#0.011　帰無仮説が棄却されるので、固定効果モデルが採択\n",
        "\n",
        "# Rの結果と一致しない\n",
        "\n"
      ],
      "metadata": {
        "id": "siIxqS2iqVe-",
        "colab": {
          "base_uri": "https://localhost:8080/",
          "height": 320
        },
        "outputId": "198e0d4d-3679-4e18-dedf-d464255985b6"
      },
      "execution_count": null,
      "outputs": [
        {
          "output_type": "stream",
          "name": "stdout",
          "text": [
            "Pooled F-statistic\n",
            "H0: Effects are zero\n",
            "Statistic: 1.0864\n",
            "P-value: 0.0115\n",
            "Distributed: F(3019,3017)\n"
          ]
        },
        {
          "output_type": "error",
          "ename": "NameError",
          "evalue": "name 'size' is not defined",
          "traceback": [
            "\u001b[0;31m---------------------------------------------------------------------------\u001b[0m",
            "\u001b[0;31mNameError\u001b[0m                                 Traceback (most recent call last)",
            "\u001b[0;32m<ipython-input-30-a167a4a5b998>\u001b[0m in \u001b[0;36m<cell line: 0>\u001b[0;34m()\u001b[0m\n\u001b[1;32m     14\u001b[0m \u001b[0;31m#p-value = 0.02221 →帰無仮説(μiの分散がゼロ)が棄却→変量効果モデルを採択\u001b[0m\u001b[0;34m\u001b[0m\u001b[0;34m\u001b[0m\u001b[0m\n\u001b[1;32m     15\u001b[0m \u001b[0;34m\u001b[0m\u001b[0m\n\u001b[0;32m---> 16\u001b[0;31m \u001b[0mn\u001b[0m \u001b[0;34m=\u001b[0m \u001b[0mlife\u001b[0m\u001b[0;34m.\u001b[0m\u001b[0mindex\u001b[0m\u001b[0;34m.\u001b[0m\u001b[0mlevels\u001b[0m\u001b[0;34m[\u001b[0m\u001b[0;36m0\u001b[0m\u001b[0;34m]\u001b[0m\u001b[0;34m,\u001b[0m\u001b[0msize\u001b[0m\u001b[0;34m\u001b[0m\u001b[0;34m\u001b[0m\u001b[0m\n\u001b[0m\u001b[1;32m     17\u001b[0m \u001b[0mT\u001b[0m \u001b[0;34m=\u001b[0m \u001b[0mlife\u001b[0m\u001b[0;34m.\u001b[0m\u001b[0mindex\u001b[0m\u001b[0;34m.\u001b[0m\u001b[0mlevels\u001b[0m\u001b[0;34m[\u001b[0m\u001b[0;36m1\u001b[0m\u001b[0;34m]\u001b[0m\u001b[0;34m,\u001b[0m\u001b[0msize\u001b[0m\u001b[0;34m\u001b[0m\u001b[0;34m\u001b[0m\u001b[0m\n\u001b[1;32m     18\u001b[0m \u001b[0mD\u001b[0m \u001b[0;34m=\u001b[0m \u001b[0mnp\u001b[0m\u001b[0;34m.\u001b[0m\u001b[0mkron\u001b[0m\u001b[0;34m(\u001b[0m\u001b[0mnp\u001b[0m\u001b[0;34m.\u001b[0m\u001b[0meye\u001b[0m\u001b[0;34m(\u001b[0m\u001b[0mn\u001b[0m\u001b[0;34m)\u001b[0m\u001b[0;34m,\u001b[0m \u001b[0mnp\u001b[0m\u001b[0;34m.\u001b[0m\u001b[0mones\u001b[0m\u001b[0;34m(\u001b[0m\u001b[0mT\u001b[0m\u001b[0;34m)\u001b[0m\u001b[0;34m)\u001b[0m\u001b[0;34m.\u001b[0m\u001b[0mT\u001b[0m\u001b[0;34m\u001b[0m\u001b[0;34m\u001b[0m\u001b[0m\n",
            "\u001b[0;31mNameError\u001b[0m: name 'size' is not defined"
          ]
        }
      ]
    },
    {
      "cell_type": "code",
      "source": [
        "#Pooling OLS VS Random　Effect Model\n",
        "#Breusch-Pagan検定\n",
        "#plmtest(re, \"individual\", \"bp\")\n",
        "#p-value < 0.1 →帰無仮説(μiの分散がゼロ)が棄却→変量効果モデルを採択\n",
        "\n",
        "# 個体数 n と時点数 T\n",
        "n = len(life.index.levels[0])\n",
        "T = len(life.index.levels[1])\n",
        "\n",
        "# D: 個体ダミー行列、e: Pooled OLS の残差\n",
        "# np.kron() は Kronecker積\n",
        "# np.eye(n) は n×n の単位行列（各個体の識別用）\n",
        "# np.ones(T) は T個の1（各個体にT期間あることを表す）\n",
        "D = np.kron(np.eye(n), np.ones(T)).T  # D: (n*T) × n 行列\n",
        "\n",
        "# 残差ベクトル\n",
        "e = pols.resids.values\n",
        "\n",
        "# LM統計量の計算\n",
        "numerator = (e @ D @ D.T @ e) / (e @ e) - 1\n",
        "LM = (numerator ** 2) * n * T / (2 * (T - 1))\n",
        "\n",
        "# p値の計算（自由度1のカイ二乗）\n",
        "LM_pvalue = stats.chi2.sf(LM, df=1)\n",
        "\n",
        "# 結果の表示\n",
        "print(f\"LM test: chi-sq = {LM:.4f}, df = 1, p-value = {LM_pvalue:.4f}\")\n",
        "\n",
        "# Rの結果と一致しない\n"
      ],
      "metadata": {
        "colab": {
          "base_uri": "https://localhost:8080/"
        },
        "id": "mWIi5CNjaaUI",
        "outputId": "9a252327-cc4d-4726-c74f-c567b9c47985"
      },
      "execution_count": null,
      "outputs": [
        {
          "output_type": "stream",
          "name": "stdout",
          "text": [
            "LM test: chi-sq = 63.1663, df = 1, p-value = 0.0000\n"
          ]
        }
      ]
    },
    {
      "cell_type": "code",
      "source": [
        "#Fixed Effect VS Random Effect\n",
        "#帰無仮説は個別効果と説明変数の間に相関がない\n",
        "#Hausman検定\n",
        "# p-value > 0.1 →　帰無仮説が棄却できない　→変量効果を採択\n",
        "# p-value < 0.1 →　帰無仮説が棄却できる　　→固定効果を採択\n",
        "\n",
        "# パラメータと共分散行列を抽出\n",
        "fe_params = fe.params\n",
        "re_params = re.params[1:]  # Intercept を除外\n",
        "fe_cov = fe.cov\n",
        "re_cov = re.cov.iloc[1:, 1:]  # Intercept を除外\n",
        "\n",
        "# 差と分散差\n",
        "diff = fe_params - re_params\n",
        "psi = fe_cov - re_cov\n",
        "\n",
        "# 数値安定化のための微小正則化（必要なら）\n",
        "epsilon = 1e-6\n",
        "psi += np.eye(len(psi)) * epsilon\n",
        "\n",
        "# Hausman統計量\n",
        "W = diff.T @ np.linalg.inv(psi) @ diff\n",
        "dof = len(diff)\n",
        "pvalue = stats.chi2(dof).sf(W)\n",
        "\n",
        "# 結果表示\n",
        "print(f\"Hausman Test: chi-sq = {W:.4f}, df = {dof}, p-value = {pvalue:.4f}\")\n"
      ],
      "metadata": {
        "colab": {
          "base_uri": "https://localhost:8080/"
        },
        "id": "6nznrV_TJ8OT",
        "outputId": "46f1097a-0cb6-400d-fe63-49323f9f1deb"
      },
      "execution_count": null,
      "outputs": [
        {
          "output_type": "stream",
          "name": "stdout",
          "text": [
            "Hausman Test: chi-sq = nan, df = 4, p-value = nan\n"
          ]
        }
      ]
    },
    {
      "cell_type": "code",
      "source": [
        "try:\n",
        "    # 微小正則化を入れる（数値安定化）\n",
        "    epsilon = 1e-6\n",
        "    psi_reg = psi + np.eye(len(psi)) * epsilon\n",
        "\n",
        "    # 統計量計算\n",
        "    W = float(diff.T @ np.linalg.inv(psi_reg) @ diff)\n",
        "    dof = len(diff)\n",
        "    pvalue = float(stats.chi2(dof).sf(W))\n",
        "\n",
        "    if np.isnan(W) or np.isnan(pvalue):\n",
        "        print(f\"Hausman Test: chi-sq = {W}, df = {dof}, p-value = {pvalue}\")\n",
        "    else:\n",
        "        print(f\"Hausman Test: chi-sq = {W:.4f}, df = {dof}, p-value = {pvalue:.4f}\")\n",
        "\n",
        "except Exception as e:\n",
        "    print(\"❌ Hausman test failed:\", e)"
      ],
      "metadata": {
        "colab": {
          "base_uri": "https://localhost:8080/"
        },
        "id": "7NghkwWcqXhn",
        "outputId": "37a05c9d-31c2-4155-ae95-b478feb4bb04"
      },
      "execution_count": null,
      "outputs": [
        {
          "output_type": "stream",
          "name": "stdout",
          "text": [
            "Hausman Test: chi-sq = nan, df = 4, p-value = nan\n"
          ]
        }
      ]
    },
    {
      "cell_type": "code",
      "source": [
        "if np.isnan(W) or np.isnan(pvalue):\n",
        "    print(\"⚠️ Hausman統計量がNaNです。FEとREの推定値が非常に近い可能性があります。\")\n",
        "    print(\"→ モデルに違いがないため、検定の意味が薄いです。REモデルで問題ないか検討を。\")\n",
        "else:\n",
        "    print(f\"Hausman Test: chi-sq = {W:.4f}, df = {dof}, p-value = {pvalue:.4f}\")"
      ],
      "metadata": {
        "colab": {
          "base_uri": "https://localhost:8080/"
        },
        "id": "xRBGF0UWq8bF",
        "outputId": "d6d18c97-81e3-43bb-dd6d-07848fdf4381"
      },
      "execution_count": null,
      "outputs": [
        {
          "output_type": "stream",
          "name": "stdout",
          "text": [
            "⚠️ Hausman統計量がNaNです。FEとREの推定値が非常に近い可能性があります。\n",
            "→ モデルに違いがないため、検定の意味が薄いです。REモデルで問題ないか検討を。\n"
          ]
        }
      ]
    }
  ]
}